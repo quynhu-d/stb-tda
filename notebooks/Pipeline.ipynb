{
 "cells": [
  {
   "cell_type": "markdown",
   "id": "ea32e613-0ef9-4c87-9fac-a3edf10e7a46",
   "metadata": {},
   "source": [
    "Pipeline to get features on single text"
   ]
  },
  {
   "cell_type": "code",
   "execution_count": 1,
   "id": "fd3a1002-593d-4515-ab7e-69ef5a37cbfe",
   "metadata": {},
   "outputs": [],
   "source": [
    "import numpy as np\n",
    "from tqdm import tqdm, trange\n",
    "import glob"
   ]
  },
  {
   "cell_type": "markdown",
   "id": "69b71630-0746-4f29-b20d-d711167669dd",
   "metadata": {
    "tags": []
   },
   "source": [
    "# src"
   ]
  },
  {
   "cell_type": "code",
   "execution_count": 2,
   "id": "2c467d64-1028-439e-bfd5-bc7fb85a4f50",
   "metadata": {},
   "outputs": [],
   "source": [
    "def get_word_space(model, filename):\n",
    "    with open(filename, 'r', encoding='utf-8') as f:\n",
    "        corpus = f.read()\n",
    "    words = set([w for w in corpus.split() if w in model])\n",
    "    # words = sorted(words)\n",
    "    space = np.vstack([model[w] for w in words])\n",
    "    # print(space.shape)\n",
    "    return space\n",
    "    # return space, words\n",
    "\n",
    "def get_ngram_space(model, filename, n=2):\n",
    "    with open(filename, 'r', encoding='utf-8') as f:\n",
    "        corpus = f.read().split()\n",
    "    ngrams = set()\n",
    "    ngram_space = []\n",
    "    for i in range(len(corpus) - n + 1):\n",
    "        ngram = [corpus[i + j] for j in range(n)]\n",
    "        flag_out = False\n",
    "        for w in ngram: \n",
    "            if w == '.': \n",
    "                flag_out = True\n",
    "                break\n",
    "            if w not in model: \n",
    "                flag_out = True\n",
    "                break\n",
    "        if flag_out: continue\n",
    "        if \" \".join(ngram) in ngrams: continue\n",
    "        ngram_space.append(np.hstack([model[w] for w in ngram]))\n",
    "        ngrams.add(\" \".join(ngram))\n",
    "    ngram_space = np.array(ngram_space)\n",
    "    # print(ngram_space.shape)\n",
    "    return ngram_space    \n",
    "    # return ngram_space, ngrams\n",
    "\n",
    "from sklearn.metrics import pairwise_distances\n",
    "def get_dist_to_centers_array(e, hole_e_centers):\n",
    "    a = pairwise_distances(e, hole_e_centers, metric='cosine')\n",
    "    return np.hstack([a, a.mean(axis=1).reshape(-1, 1)])\n",
    "\n",
    "from collections import Counter\n",
    "def get_dist_array(e, hole_embs, apply_func=np.min):\n",
    "    dist_list = np.vstack([apply_func(pairwise_distances(e, hole, metric='cosine'), axis=1) for hole in hole_embs])\n",
    "    dist_list = np.vstack([dist_list, dist_list.mean(axis=0)])\n",
    "    return dist_list.T\n",
    "def get_most_common_closest_hole(min_dist):\n",
    "    cnt = Counter(min_dist.argmin(axis=1))\n",
    "    a = np.array([cnt[hn] for hn in range(min_dist.shape[1])]) / min_dist.shape[0]\n",
    "    return np.hstack([a, [a.argmax()]])"
   ]
  },
  {
   "cell_type": "code",
   "execution_count": 3,
   "id": "cc7c3ce0-218f-4162-aeb5-74aa83ac08a7",
   "metadata": {},
   "outputs": [],
   "source": [
    "import pandas as pd\n",
    "\n",
    "def process(files, model, lang='RU', data_part='Train', text_type='lit'):\n",
    "    features = []\n",
    "    text_names = []\n",
    "    for part in ['word', 'bigram', 'trigram']:\n",
    "        hole_embeddings = np.load(f\"holes/{lang.upper()}/{part}s/hole_embeddings.npy\", allow_pickle=True).item()\n",
    "        hole_e_centers = np.vstack([h.mean(axis=0) for h in hole_embeddings.values()])\n",
    "        for f in tqdm(files, desc=f\"Processing {part}s...\"):\n",
    "            try:\n",
    "                if part == 'word':\n",
    "                    space = get_word_space(model, f)\n",
    "                elif part == 'bigram':\n",
    "                    space = get_ngram_space(model, f, 2)\n",
    "                elif part == 'trigram':\n",
    "                    space = get_ngram_space(model, f, 3)\n",
    "\n",
    "                c_mean = np.mean(get_dist_to_centers_array(space, hole_e_centers), axis=0)\n",
    "                m1 = get_dist_array(space, hole_embeddings.values(), np.min)\n",
    "                m2_mean = np.mean(get_dist_array(space, hole_embeddings.values(), np.max), axis=0)\n",
    "                h = get_most_common_closest_hole(m1[:,:-1])\n",
    "                features.append(np.hstack([c_mean, np.mean(m1, axis=0), m2_mean, h]))\n",
    "                text_names.append(f.split('_')[-1][:-4])\n",
    "            except:\n",
    "                continue\n",
    "        data = pd.DataFrame(features)\n",
    "        data['text'] = text_names\n",
    "        data.to_csv(f\"features/{data_part}_{lang}_{text_type}_{part}_features.csv\", index=False)\n",
    "        print(f\"Saved at features/{data_part}_{lang}_{text_type}_{part}_features.csv\")"
   ]
  },
  {
   "cell_type": "markdown",
   "id": "69a8b981-b0d8-4c3c-a0e7-11adf9271212",
   "metadata": {
    "jp-MarkdownHeadingCollapsed": true,
    "tags": []
   },
   "source": [
    "## dev"
   ]
  },
  {
   "cell_type": "code",
   "execution_count": 142,
   "id": "7affd1b1-cbd7-424b-a18d-3c8f4e2af7a1",
   "metadata": {},
   "outputs": [
    {
     "name": "stdout",
     "output_type": "stream",
     "text": [
      "CPU times: total: 312 ms\n",
      "Wall time: 328 ms\n"
     ]
    }
   ],
   "source": [
    "%%time\n",
    "word_space = get_word_space(ru_model, files[0])"
   ]
  },
  {
   "cell_type": "code",
   "execution_count": 126,
   "id": "c65e4025-3d17-46bf-a60b-78fff5c00841",
   "metadata": {},
   "outputs": [
    {
     "name": "stdout",
     "output_type": "stream",
     "text": [
      "CPU times: total: 1.44 s\n",
      "Wall time: 1.47 s\n"
     ]
    }
   ],
   "source": [
    "%%time\n",
    "bigram_space = get_ngram_space(ru_model, files[0], 2)"
   ]
  },
  {
   "cell_type": "code",
   "execution_count": 127,
   "id": "dd932e39-aafd-4e92-85ec-204cdbc552f1",
   "metadata": {},
   "outputs": [
    {
     "name": "stdout",
     "output_type": "stream",
     "text": [
      "CPU times: total: 1.12 s\n",
      "Wall time: 1.22 s\n"
     ]
    }
   ],
   "source": [
    "%%time\n",
    "trigram_space = get_ngram_space(ru_model, files[0], 3)"
   ]
  },
  {
   "cell_type": "code",
   "execution_count": null,
   "id": "3f2baf3e-3e1f-4d6d-ab90-d65628a72471",
   "metadata": {},
   "outputs": [],
   "source": []
  },
  {
   "cell_type": "code",
   "execution_count": 36,
   "id": "bc0989c4-6e7d-47cd-8806-7987029273f5",
   "metadata": {},
   "outputs": [],
   "source": [
    "part = 'word'\n",
    "lang = 'RU'\n",
    "hole_embeddings = np.load(f\"holes/{lang.upper()}/{part}s/hole_embeddings.npy\", allow_pickle=True).item()\n",
    "hole_e_centers = np.vstack([h.mean(axis=0) for h in hole_embeddings.values()])"
   ]
  },
  {
   "cell_type": "code",
   "execution_count": 88,
   "id": "34036191-322e-4125-b184-eedf9363e9c5",
   "metadata": {},
   "outputs": [
    {
     "data": {
      "text/plain": [
       "(8,)"
      ]
     },
     "execution_count": 88,
     "metadata": {},
     "output_type": "execute_result"
    }
   ],
   "source": [
    "c_mean = np.mean(get_dist_to_centers_array(word_space, hole_e_centers), axis=0)\n",
    "c_mean.shape"
   ]
  },
  {
   "cell_type": "code",
   "execution_count": 92,
   "id": "cf6b6ce8-d83d-41f0-872d-40ea1f9f093a",
   "metadata": {},
   "outputs": [],
   "source": [
    "m1 = get_dist_array(word_space, hole_embeddings.values(), np.min)\n",
    "m2_mean = np.mean(get_dist_array(word_space, hole_embeddings.values(), np.max), axis=0)"
   ]
  },
  {
   "cell_type": "code",
   "execution_count": 93,
   "id": "fdf8caec-07b9-4306-a540-e552d07abcfc",
   "metadata": {},
   "outputs": [
    {
     "data": {
      "text/plain": [
       "((13044, 8), (8,))"
      ]
     },
     "execution_count": 93,
     "metadata": {},
     "output_type": "execute_result"
    }
   ],
   "source": [
    "m1.shape, m2_mean.shape"
   ]
  },
  {
   "cell_type": "code",
   "execution_count": 117,
   "id": "bd589a16-2d0b-4957-b9a0-254ee9c54332",
   "metadata": {},
   "outputs": [],
   "source": [
    "h = get_most_common_closest_hole(m1[:,:-1])"
   ]
  },
  {
   "cell_type": "code",
   "execution_count": 122,
   "id": "fd419750-252e-4775-a2a6-30aca5a90987",
   "metadata": {},
   "outputs": [
    {
     "data": {
      "text/plain": [
       "(32,)"
      ]
     },
     "execution_count": 122,
     "metadata": {},
     "output_type": "execute_result"
    }
   ],
   "source": [
    "np.hstack([c, np.mean(m1, axis=0), m2_mean, h]).shape"
   ]
  },
  {
   "cell_type": "markdown",
   "id": "23358941-da39-4ad4-b777-70cbfe64607b",
   "metadata": {
    "tags": []
   },
   "source": [
    "# RU"
   ]
  },
  {
   "cell_type": "code",
   "execution_count": 4,
   "id": "4ce53171-7478-46eb-a8b1-4cb22e6e78d0",
   "metadata": {},
   "outputs": [],
   "source": [
    "ru_model = np.load(\"semantic_space/ru_cbow_dictionary.npy\", allow_pickle=True).item()"
   ]
  },
  {
   "cell_type": "markdown",
   "id": "8867deee-672d-407a-93db-ce789dd694e2",
   "metadata": {},
   "source": [
    "## Train"
   ]
  },
  {
   "cell_type": "markdown",
   "id": "f8bccc6c-2d04-499c-aa43-93c85db94155",
   "metadata": {
    "jp-MarkdownHeadingCollapsed": true
   },
   "source": [
    "### lit"
   ]
  },
  {
   "cell_type": "code",
   "execution_count": null,
   "id": "80c180fa-4196-4b3f-9a33-edb7f654670d",
   "metadata": {},
   "outputs": [
    {
     "name": "stdout",
     "output_type": "stream",
     "text": [
      "2000\n",
      "['../DATASET/Russian/Train/lit/Train_russian_nofraglit_1.txt', '../DATASET/Russian/Train/lit/Train_russian_nofraglit_1001.txt', '../DATASET/Russian/Train/lit/Train_russian_nofraglit_1002.txt']\n"
     ]
    },
    {
     "name": "stderr",
     "output_type": "stream",
     "text": [
      "Processing words...: 100%|██████████| 2000/2000 [01:22<00:00, 24.34it/s]\n"
     ]
    },
    {
     "name": "stdout",
     "output_type": "stream",
     "text": [
      "Saved at features/Train_RU_lit_word_features.csv\n"
     ]
    },
    {
     "name": "stderr",
     "output_type": "stream",
     "text": [
      "Processing bigrams...:  16%|█▋        | 325/2000 [00:30<01:33, 17.94it/s]"
     ]
    }
   ],
   "source": [
    "data_part = 'Train'\n",
    "text_type = 'lit'\n",
    "lang = 'RU'\n",
    "\n",
    "files = sorted(glob.glob(f\"../DATASET/Russian/{data_part}/{text_type}/*.txt\"))\n",
    "print(len(files))\n",
    "print(files[:3])\n",
    "\n",
    "process(files, ru_model, lang=lang, data_part=data_part, text_type=text_type)"
   ]
  },
  {
   "cell_type": "markdown",
   "id": "d099ca94-0936-40db-ada3-8b71ba0d53e9",
   "metadata": {
    "jp-MarkdownHeadingCollapsed": true
   },
   "source": [
    "### gpt2"
   ]
  },
  {
   "cell_type": "code",
   "execution_count": null,
   "id": "e872b1b1-1a25-4676-b44e-e06198681606",
   "metadata": {},
   "outputs": [],
   "source": [
    "data_part = 'Train'\n",
    "text_type = 'gpt2'\n",
    "lang = 'RU'\n",
    "\n",
    "files = sorted(glob.glob(f\"../DATASET/Russian/{data_part}/{text_type}/*.txt\"))\n",
    "print(len(files))\n",
    "print(files[:3])\n",
    "\n",
    "process(files, ru_model, lang=lang, data_part=data_part, text_type=text_type)"
   ]
  },
  {
   "cell_type": "markdown",
   "id": "42a0b0ea-df56-4580-8687-372ba7eff023",
   "metadata": {
    "jp-MarkdownHeadingCollapsed": true,
    "tags": []
   },
   "source": [
    "### balaboba"
   ]
  },
  {
   "cell_type": "code",
   "execution_count": null,
   "id": "4fc0a0d0-2516-408b-8060-a5ab76868636",
   "metadata": {},
   "outputs": [],
   "source": [
    "data_part = 'Train'\n",
    "text_type = 'balaboba'\n",
    "lang = 'RU'\n",
    "\n",
    "files = sorted(glob.glob(f\"../DATASET/Russian/{data_part}/{text_type}/*.txt\"))\n",
    "print(len(files))\n",
    "print(files[:3])\n",
    "\n",
    "process(files, ru_model, lang=lang, data_part=data_part, text_type=text_type)"
   ]
  },
  {
   "cell_type": "markdown",
   "id": "c556c20d-8258-4c4b-91cb-c9c62e7cb6c6",
   "metadata": {
    "jp-MarkdownHeadingCollapsed": true
   },
   "source": [
    "## Test"
   ]
  },
  {
   "cell_type": "markdown",
   "id": "232f6ba7-19d9-4f04-9422-65a2e56c7e5c",
   "metadata": {
    "jp-MarkdownHeadingCollapsed": true
   },
   "source": [
    "### lit"
   ]
  },
  {
   "cell_type": "code",
   "execution_count": null,
   "id": "1489f59b-041b-4893-a8cb-4019d2162f14",
   "metadata": {},
   "outputs": [],
   "source": [
    "data_part = 'Test'\n",
    "text_type = 'lit'\n",
    "lang = 'RU'\n",
    "\n",
    "files = sorted(glob.glob(f\"../DATASET/Russian/{data_part}/{text_type}/*.txt\"))\n",
    "print(len(files))\n",
    "print(files[:3])\n",
    "\n",
    "process(files, ru_model, lang=lang, data_part=data_part, text_type=text_type)"
   ]
  },
  {
   "cell_type": "markdown",
   "id": "18f1de97-f9ee-45c8-96ee-196d88c1211b",
   "metadata": {
    "jp-MarkdownHeadingCollapsed": true
   },
   "source": [
    "### mGPT"
   ]
  },
  {
   "cell_type": "code",
   "execution_count": null,
   "id": "b2dd97f1-0761-4920-9cc6-143243be743b",
   "metadata": {},
   "outputs": [],
   "source": [
    "data_part = 'Test'\n",
    "text_type = 'mGPT'\n",
    "lang = 'RU'\n",
    "\n",
    "files = sorted(glob.glob(f\"../DATASET/Russian/{data_part}/{text_type}/*.txt\"))\n",
    "print(len(files))\n",
    "print(files[:3])\n",
    "\n",
    "process(files, ru_model, lang=lang, data_part=data_part, text_type=text_type)"
   ]
  },
  {
   "cell_type": "markdown",
   "id": "3239f042-3a15-4687-8b41-b95bc1346be3",
   "metadata": {
    "jp-MarkdownHeadingCollapsed": true,
    "tags": []
   },
   "source": [
    "### lstm"
   ]
  },
  {
   "cell_type": "code",
   "execution_count": null,
   "id": "4a4a75ac-579c-4aad-bc7b-c9e59ae14cad",
   "metadata": {},
   "outputs": [],
   "source": [
    "data_part = 'Test'\n",
    "text_type = 'lstm'\n",
    "lang = 'RU'\n",
    "\n",
    "files = sorted(glob.glob(f\"../DATASET/Russian/{data_part}/{text_type}/*.txt\"))\n",
    "print(len(files))\n",
    "print(files[:3])\n",
    "\n",
    "process(files, ru_model, lang=lang, data_part=data_part, text_type=text_type)"
   ]
  },
  {
   "cell_type": "markdown",
   "id": "fa9784ed-3c1e-445d-a437-449f80a188fd",
   "metadata": {
    "jp-MarkdownHeadingCollapsed": true,
    "tags": []
   },
   "source": [
    "# EN"
   ]
  },
  {
   "cell_type": "code",
   "execution_count": null,
   "id": "1d4884bd-8f9b-411d-aca5-57164eec5125",
   "metadata": {},
   "outputs": [],
   "source": [
    "en_model = np.load(\"semantic_space/en_cbow_dictionary.npy\", allow_pickle=True).item()"
   ]
  },
  {
   "cell_type": "markdown",
   "id": "e3345fc9-2d2c-4b0e-93f6-dc227817a132",
   "metadata": {
    "jp-MarkdownHeadingCollapsed": true
   },
   "source": [
    "## Train"
   ]
  },
  {
   "cell_type": "markdown",
   "id": "69dde894-5fe2-4454-93ef-5be77c26c9f0",
   "metadata": {
    "jp-MarkdownHeadingCollapsed": true
   },
   "source": [
    "### lit"
   ]
  },
  {
   "cell_type": "code",
   "execution_count": null,
   "id": "93d90eec-2c38-4239-a673-78fa465ff8c0",
   "metadata": {},
   "outputs": [],
   "source": [
    "data_part = 'Train'\n",
    "text_type = 'lit'\n",
    "lang = 'EN'\n",
    "\n",
    "files = sorted(glob.glob(f\"../DATASET/English/{data_part}/{text_type}/*.txt\"))\n",
    "print(len(files))\n",
    "print(files[:3])\n",
    "\n",
    "process(files, en_model, lang=lang, data_part=data_part, text_type=text_type)"
   ]
  },
  {
   "cell_type": "markdown",
   "id": "4e18253f-51ae-4557-a7d2-2482ca020c00",
   "metadata": {
    "jp-MarkdownHeadingCollapsed": true
   },
   "source": [
    "### gpt2"
   ]
  },
  {
   "cell_type": "code",
   "execution_count": null,
   "id": "c5d8ae03-51d6-4e1c-937c-e61531b413d9",
   "metadata": {},
   "outputs": [],
   "source": [
    "data_part = 'Train'\n",
    "text_type = 'gpt2'\n",
    "lang = 'EN'\n",
    "\n",
    "files = sorted(glob.glob(f\"../DATASET/English/{data_part}/{text_type}/*.txt\"))\n",
    "print(len(files))\n",
    "print(files[:3])\n",
    "\n",
    "process(files, en_model, lang=lang, data_part=data_part, text_type=text_type)"
   ]
  },
  {
   "cell_type": "markdown",
   "id": "c89722d3-a7f1-4f87-b489-7081928b8664",
   "metadata": {
    "jp-MarkdownHeadingCollapsed": true,
    "tags": []
   },
   "source": [
    "### balaboba"
   ]
  },
  {
   "cell_type": "code",
   "execution_count": null,
   "id": "e211cca7-a6a6-4ad9-bca8-c04b731940f7",
   "metadata": {},
   "outputs": [],
   "source": [
    "data_part = 'Train'\n",
    "text_type = 'balaboba'\n",
    "lang = 'EN'\n",
    "\n",
    "files = sorted(glob.glob(f\"../DATASET/English/{data_part}/{text_type}/*.txt\"))\n",
    "print(len(files))\n",
    "print(files[:3])\n",
    "\n",
    "process(files, en_model, lang=lang, data_part=data_part, text_type=text_type)"
   ]
  },
  {
   "cell_type": "markdown",
   "id": "e770e31b-d0ee-417e-9b7d-d91940279cb4",
   "metadata": {
    "jp-MarkdownHeadingCollapsed": true
   },
   "source": [
    "## Test"
   ]
  },
  {
   "cell_type": "markdown",
   "id": "6a8b898c-3e41-4c21-8a33-24ea335c66d6",
   "metadata": {
    "jp-MarkdownHeadingCollapsed": true
   },
   "source": [
    "### lit"
   ]
  },
  {
   "cell_type": "code",
   "execution_count": null,
   "id": "16365ffd-206a-4eda-ae18-fa6abdf895ca",
   "metadata": {},
   "outputs": [],
   "source": [
    "data_part = 'Test'\n",
    "text_type = 'lit'\n",
    "lang = 'EN'\n",
    "\n",
    "files = sorted(glob.glob(f\"../DATASET/English/{data_part}/{text_type}/*.txt\"))\n",
    "print(len(files))\n",
    "print(files[:3])\n",
    "\n",
    "process(files, en_model, lang=lang, data_part=data_part, text_type=text_type)"
   ]
  },
  {
   "cell_type": "markdown",
   "id": "855d7d64-cf32-454f-b14b-7dbfcd0299bf",
   "metadata": {
    "jp-MarkdownHeadingCollapsed": true
   },
   "source": [
    "### mGPT"
   ]
  },
  {
   "cell_type": "code",
   "execution_count": null,
   "id": "74562531-1047-4d75-9f2d-89299ee9c81b",
   "metadata": {},
   "outputs": [],
   "source": [
    "data_part = 'Test'\n",
    "text_type = 'mGPT'\n",
    "lang = 'EN'\n",
    "\n",
    "files = sorted(glob.glob(f\"../DATASET/English/{data_part}/{text_type}/*.txt\"))\n",
    "print(len(files))\n",
    "print(files[:3])\n",
    "\n",
    "process(files, en_model, lang=lang, data_part=data_part, text_type=text_type)"
   ]
  },
  {
   "cell_type": "markdown",
   "id": "f38184aa-8ab2-4ae7-8cad-feec9b9652f7",
   "metadata": {
    "jp-MarkdownHeadingCollapsed": true,
    "tags": []
   },
   "source": [
    "### lstm"
   ]
  },
  {
   "cell_type": "code",
   "execution_count": null,
   "id": "9fc843e8-47d2-4b29-a153-33af40768ae8",
   "metadata": {},
   "outputs": [],
   "source": [
    "data_part = 'Test'\n",
    "text_type = 'lstm'\n",
    "lang = 'EN'\n",
    "\n",
    "files = sorted(glob.glob(f\"../DATASET/English/{data_part}/{text_type}/*.txt\"))\n",
    "print(len(files))\n",
    "print(files[:3])\n",
    "\n",
    "process(files, en_model, lang=lang, data_part=data_part, text_type=text_type)"
   ]
  }
 ],
 "metadata": {
  "kernelspec": {
   "display_name": "Python 3 (ipykernel)",
   "language": "python",
   "name": "python3"
  },
  "language_info": {
   "codemirror_mode": {
    "name": "ipython",
    "version": 3
   },
   "file_extension": ".py",
   "mimetype": "text/x-python",
   "name": "python",
   "nbconvert_exporter": "python",
   "pygments_lexer": "ipython3",
   "version": "3.9.9"
  }
 },
 "nbformat": 4,
 "nbformat_minor": 5
}
