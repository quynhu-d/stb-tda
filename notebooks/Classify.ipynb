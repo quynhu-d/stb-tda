{
 "cells": [
  {
   "cell_type": "markdown",
   "id": "a73cf3a3-33cd-4609-a99c-f9d47a011cfa",
   "metadata": {},
   "source": [
    "SVC, Decision Tree, Random Forest on features. Feature selection"
   ]
  },
  {
   "cell_type": "code",
   "execution_count": 1,
   "id": "04cc0584-cdbb-4535-b903-a6b8b2a3fc9b",
   "metadata": {},
   "outputs": [],
   "source": [
    "import numpy as np\n",
    "import matplotlib.pyplot as plt\n",
    "import seaborn as sns\n",
    "sns.set_style('whitegrid')\n",
    "from tqdm.auto import tqdm\n",
    "import pandas as pd"
   ]
  },
  {
   "cell_type": "markdown",
   "id": "78899e6e-471f-40f9-8fbc-f506d175b3af",
   "metadata": {},
   "source": []
  },
  {
   "cell_type": "markdown",
   "id": "ee3da1b3-74ae-47c1-88f1-2ef10b162858",
   "metadata": {
    "jp-MarkdownHeadingCollapsed": true
   },
   "source": [
    "# Features"
   ]
  },
  {
   "cell_type": "code",
   "execution_count": 2,
   "id": "263feb63-d222-4752-92fb-fdc4a4c55de7",
   "metadata": {},
   "outputs": [],
   "source": [
    "train_data = {}\n",
    "for lang in ['RU', 'EN']:\n",
    "    train_data[lang] = {}\n",
    "    for part in ['word', 'bigram', 'trigram']:\n",
    "        data = []\n",
    "        for text_type in ['lit', 'gpt2', 'balaboba']:\n",
    "            a = pd.read_csv(f\"features/Train_{lang}_{text_type}_{part}_features.csv\")\n",
    "            a['text_type'] = text_type\n",
    "            data.append(a)\n",
    "        train_data[lang][part] = pd.concat(data, ignore_index=True)"
   ]
  },
  {
   "cell_type": "code",
   "execution_count": 3,
   "id": "a6cf66cc-8725-428b-aef5-6c9025f5179f",
   "metadata": {},
   "outputs": [],
   "source": [
    "test_data = {}\n",
    "for lang in ['RU', 'EN']:\n",
    "    test_data[lang] = {}\n",
    "    for part in ['word', 'bigram', 'trigram']:\n",
    "        data = []\n",
    "        for text_type in ['lit', 'mGPT', 'lstm']:\n",
    "            a = pd.read_csv(f\"features/Test_{lang}_{text_type}_{part}_features.csv\")\n",
    "            a['text_type'] = text_type\n",
    "            data.append(a)\n",
    "        test_data[lang][part] = pd.concat(data, ignore_index=True)"
   ]
  },
  {
   "cell_type": "code",
   "execution_count": 7,
   "id": "6658e4fa-c39a-4b19-93d6-56506d57c317",
   "metadata": {},
   "outputs": [],
   "source": [
    "for lang in ['EN', 'RU']:\n",
    "    for part in ['word', 'bigram', 'trigram']:\n",
    "        df = train_data[lang][part]\n",
    "        df[df.columns[-3]] = df[df.columns[-3]].fillna(-1).astype(int)\n",
    "        df = test_data[lang][part]\n",
    "        df[df.columns[-3]] = df[df.columns[-3]].fillna(-1).astype(int)"
   ]
  },
  {
   "cell_type": "code",
   "execution_count": 8,
   "id": "6cd1f6fe-fffa-47c2-b6fa-70636d788098",
   "metadata": {},
   "outputs": [
    {
     "name": "stdout",
     "output_type": "stream",
     "text": [
      "[0, 1, 2, 3] [0, 1, 2, 3]\n",
      "[0, 1, 2, 3, 4, 5, 6] [0, 1, 2, 4, 5, 6]\n",
      "[0, 1, 2, 3, 4] [0, 1, 2, 3, 4]\n",
      "[0, 1, 2, 5, 6] [0, 1, 2, 3, 5]\n",
      "[0, 1, 2, 3, 4, 5, 6, 7, 8, 9, 10, 11] [0, 1, 2, 3, 4, 5, 6, 7, 8, 9, 10, 11]\n",
      "[0, 1, 2, 3, 4, 5, 6, 7, 8, 9, 10, 11] [0, 1, 2, 3, 4, 5, 6, 7, 8, 9, 10, 11]\n"
     ]
    }
   ],
   "source": [
    "for lang in ['EN', 'RU']:\n",
    "    for part in ['word', 'bigram', 'trigram']:\n",
    "        print(sorted(train_data[lang][part].iloc[:,-3].unique()), sorted(test_data[lang][part].iloc[:,-3].unique()))"
   ]
  },
  {
   "cell_type": "markdown",
   "id": "7a8a3aea-a3b9-4c4f-95f2-535cf2b480b7",
   "metadata": {},
   "source": [
    "# Classification functions"
   ]
  },
  {
   "cell_type": "code",
   "execution_count": 9,
   "id": "627b2c35-932f-47b5-b0ff-fc0e82b1ac8f",
   "metadata": {},
   "outputs": [],
   "source": [
    "from sklearn.model_selection import GridSearchCV\n",
    "from sklearn.svm import LinearSVC\n",
    "from sklearn.metrics import roc_auc_score, average_precision_score\n",
    "\n",
    "def svc_classifier(X_train, y_train, X_test, y_test):\n",
    "    svc = LinearSVC(dual=False)\n",
    "    reg_Cs = np.logspace(-5, 1, 20)\n",
    "    linear_svc = GridSearchCV(svc, {\"C\": reg_Cs}, cv=10)    # chooses best by score estimate\n",
    "    model = linear_svc.fit(X_train, y_train)\n",
    "\n",
    "    best_model_svc = linear_svc.best_estimator_\n",
    "    train_score = best_model_svc.score(X_train, y_train)\n",
    "    test_score = best_model_svc.score(X_test, y_test)\n",
    "    \n",
    "    b_pred_svc = best_model_svc.decision_function(X_test)\n",
    "    auc_roc_svc_ = roc_auc_score(y_test, b_pred_svc)\n",
    "    auc_pr_svc_ = average_precision_score(y_test, b_pred_svc)\n",
    "    \n",
    "    return best_model_svc, {\n",
    "        'train_acc': train_score, 'test_acc': test_score, \n",
    "        'auc_roc_test': auc_roc_svc_, 'auc_pr_test': auc_pr_svc_\n",
    "    }"
   ]
  },
  {
   "cell_type": "code",
   "execution_count": 12,
   "id": "30ff0f6c-8911-452e-b004-ec8e3491536f",
   "metadata": {},
   "outputs": [],
   "source": [
    "from sklearn.tree import DecisionTreeClassifier\n",
    "from sklearn.metrics import accuracy_score\n",
    "from sklearn.ensemble import RandomForestClassifier\n",
    "from itertools import product\n",
    "\n",
    "\n",
    "def decision_tree_classifier(\n",
    "    X_train, y_train, X_test, y_test, \n",
    "    depth_grid=range(3, 16), samples_leaf_grid=range(1, 5), random_forest=False\n",
    "):\n",
    "    models = {}\n",
    "    accuracy = {part: np.zeros((len(depth_grid), len(samples_leaf_grid))) for part in ['train', 'test']}\n",
    "\n",
    "    for i, depth in tqdm(enumerate(depth_grid), total=len(depth_grid), leave=False):\n",
    "        for j, samples_leaf in enumerate(samples_leaf_grid):\n",
    "            if random_forest:\n",
    "                model = RandomForestClassifier(\n",
    "                    max_depth = depth, \n",
    "                    min_samples_leaf = samples_leaf\n",
    "                ).fit(X_train, y_train)\n",
    "            else:\n",
    "                model = DecisionTreeClassifier(\n",
    "                    max_depth = depth, \n",
    "                    min_samples_leaf = samples_leaf\n",
    "                ).fit(X_train, y_train)\n",
    "            pred_train = model.predict(X_train)\n",
    "            pred = model.predict(X_test)\n",
    "            accuracy['train'][i, j] = accuracy_score(y_train, pred_train) \n",
    "            accuracy['test'][i, j] = accuracy_score(y_test, pred)\n",
    "            models[(depth, samples_leaf)] = model\n",
    "    for part in accuracy:\n",
    "        accuracy[part] = pd.DataFrame(accuracy[part])\n",
    "        accuracy[part].columns = samples_leaf_grid\n",
    "        accuracy[part].index = depth_grid\n",
    "    return models, accuracy"
   ]
  },
  {
   "cell_type": "markdown",
   "id": "4a3f4525-acf4-4f33-aa8d-ddaa0f03cd3a",
   "metadata": {
    "jp-MarkdownHeadingCollapsed": true
   },
   "source": [
    "# Dataset"
   ]
  },
  {
   "cell_type": "code",
   "execution_count": 10,
   "id": "da9c9725-240a-4ae2-8e93-d9113f3a4de9",
   "metadata": {
    "scrolled": true
   },
   "outputs": [
    {
     "name": "stdout",
     "output_type": "stream",
     "text": [
      "EN word\n",
      "{'train_acc': 0.95975, 'test_acc': 0.8441666666666666, 'auc_roc_test': 0.94275, 'auc_pr_test': 0.9485360605455366}\n",
      "**********\n",
      "EN bigram\n",
      "{'train_acc': 0.96275, 'test_acc': 0.9408333333333333, 'auc_roc_test': 0.9771111111111112, 'auc_pr_test': 0.9782454728238364}\n",
      "**********\n",
      "EN trigram\n",
      "{'train_acc': 0.906, 'test_acc': 0.755, 'auc_roc_test': 0.9047916666666667, 'auc_pr_test': 0.9196315733514229}\n",
      "**********\n",
      "RU word\n",
      "{'train_acc': 0.9826720241084882, 'test_acc': 0.7433110367892977, 'auc_roc_test': 0.9415911633109622, 'auc_pr_test': 0.9487380126320418}\n",
      "**********\n",
      "RU bigram\n",
      "{'train_acc': 0.9721245605223505, 'test_acc': 0.7138075313807531, 'auc_roc_test': 0.6327268041814658, 'auc_pr_test': 0.5917046364731295}\n",
      "**********\n",
      "RU trigram\n",
      "{'train_acc': 0.9611895161290323, 'test_acc': 0.7181434599156118, 'auc_roc_test': 0.6788206808146988, 'auc_pr_test': 0.6143500261774026}\n",
      "**********\n"
     ]
    }
   ],
   "source": [
    "svc_res = {'EN': {}, 'RU': {}}\n",
    "for lang in ['EN', 'RU']:\n",
    "    for part in ['word', 'bigram', 'trigram']:\n",
    "        try:\n",
    "            train_df = train_data[lang][part]\n",
    "            test_df = test_data[lang][part]\n",
    "            res = svc_classifier(\n",
    "                train_df[train_df.columns[:-2]], train_df[train_df.columns[-1]] == 'lit', \n",
    "                test_df[test_df.columns[:-2]], test_df[test_df.columns[-1]] == 'lit'\n",
    "            )\n",
    "            svc_res[lang][part] = res\n",
    "            print(lang, part)\n",
    "            print(res[1])\n",
    "            print('*' * 10)\n",
    "        except:\n",
    "            continue"
   ]
  },
  {
   "cell_type": "code",
   "execution_count": 11,
   "id": "7aaf1fac-04b3-454e-bf28-57188ebfccf6",
   "metadata": {},
   "outputs": [],
   "source": [
    "np.save(\"classification/svc_gpt2_balaboba.npy\", svc_res)"
   ]
  },
  {
   "cell_type": "code",
   "execution_count": 14,
   "id": "a950fc47-4c88-4801-925f-ae7993103beb",
   "metadata": {
    "scrolled": true
   },
   "outputs": [
    {
     "data": {
      "application/vnd.jupyter.widget-view+json": {
       "model_id": "",
       "version_major": 2,
       "version_minor": 0
      },
      "text/plain": [
       "  0%|          | 0/13 [00:00<?, ?it/s]"
      ]
     },
     "metadata": {},
     "output_type": "display_data"
    },
    {
     "name": "stdout",
     "output_type": "stream",
     "text": [
      "EN word\n",
      "{'train':           1        2        3        4\n",
      "3   0.95575  0.95575  0.95575  0.95575\n",
      "4   0.96350  0.96325  0.96300  0.96275\n",
      "5   0.97025  0.96975  0.96925  0.96850\n",
      "6   0.97925  0.97875  0.97775  0.97650\n",
      "7   0.98550  0.98325  0.98100  0.97925\n",
      "8   0.99175  0.98775  0.98525  0.98325\n",
      "9   0.99550  0.99025  0.98650  0.98450\n",
      "10  0.99675  0.99125  0.98800  0.98450\n",
      "11  0.99775  0.99150  0.98800  0.98525\n",
      "12  0.99950  0.99200  0.98775  0.98500\n",
      "13  0.99975  0.99225  0.98750  0.98500\n",
      "14  1.00000  0.99225  0.98775  0.98500\n",
      "15  1.00000  0.99225  0.98775  0.98500, 'test':            1         2         3         4\n",
      "3   0.831667  0.831667  0.831667  0.831667\n",
      "4   0.843333  0.843333  0.843333  0.843333\n",
      "5   0.847500  0.845833  0.847500  0.845833\n",
      "6   0.849167  0.848333  0.845833  0.846667\n",
      "7   0.847500  0.850000  0.840833  0.845833\n",
      "8   0.845833  0.845000  0.837500  0.833333\n",
      "9   0.844167  0.840000  0.839167  0.832500\n",
      "10  0.845833  0.840000  0.836667  0.826667\n",
      "11  0.840000  0.840000  0.830833  0.830000\n",
      "12  0.839167  0.837500  0.835833  0.830833\n",
      "13  0.840000  0.840000  0.835000  0.829167\n",
      "14  0.838333  0.838333  0.836667  0.830833\n",
      "15  0.840000  0.839167  0.838333  0.829167}\n",
      "**********\n"
     ]
    },
    {
     "data": {
      "application/vnd.jupyter.widget-view+json": {
       "model_id": "",
       "version_major": 2,
       "version_minor": 0
      },
      "text/plain": [
       "  0%|          | 0/13 [00:00<?, ?it/s]"
      ]
     },
     "metadata": {},
     "output_type": "display_data"
    },
    {
     "name": "stdout",
     "output_type": "stream",
     "text": [
      "EN bigram\n",
      "{'train':           1        2        3        4\n",
      "3   0.94450  0.94450  0.94450  0.94450\n",
      "4   0.95350  0.95325  0.95300  0.95300\n",
      "5   0.96550  0.96525  0.96425  0.96375\n",
      "6   0.97650  0.97550  0.97375  0.97200\n",
      "7   0.98600  0.98325  0.98025  0.97725\n",
      "8   0.98800  0.98475  0.98125  0.97875\n",
      "9   0.99175  0.98825  0.98450  0.98125\n",
      "10  0.99400  0.99050  0.98600  0.98125\n",
      "11  0.99475  0.99075  0.98700  0.98125\n",
      "12  0.99675  0.99075  0.98700  0.98125\n",
      "13  0.99800  0.99125  0.98700  0.98125\n",
      "14  0.99950  0.99125  0.98650  0.98125\n",
      "15  0.99975  0.99125  0.98675  0.98125, 'test':            1         2         3         4\n",
      "3   0.855833  0.855833  0.855833  0.855833\n",
      "4   0.850833  0.853333  0.852500  0.852500\n",
      "5   0.856667  0.859167  0.857500  0.860000\n",
      "6   0.879167  0.869167  0.872500  0.872500\n",
      "7   0.868333  0.869167  0.860833  0.867500\n",
      "8   0.850833  0.861667  0.855833  0.860000\n",
      "9   0.830000  0.860000  0.863333  0.864167\n",
      "10  0.837500  0.860000  0.860833  0.873333\n",
      "11  0.804167  0.848333  0.853333  0.873333\n",
      "12  0.818333  0.856667  0.855000  0.864167\n",
      "13  0.845833  0.864167  0.865000  0.864167\n",
      "14  0.835000  0.863333  0.867500  0.875000\n",
      "15  0.834167  0.865000  0.864167  0.870833}\n",
      "**********\n"
     ]
    },
    {
     "data": {
      "application/vnd.jupyter.widget-view+json": {
       "model_id": "",
       "version_major": 2,
       "version_minor": 0
      },
      "text/plain": [
       "  0%|          | 0/13 [00:00<?, ?it/s]"
      ]
     },
     "metadata": {},
     "output_type": "display_data"
    },
    {
     "name": "stdout",
     "output_type": "stream",
     "text": [
      "EN trigram\n",
      "{'train':           1        2        3        4\n",
      "3   0.89425  0.89425  0.89425  0.89425\n",
      "4   0.90975  0.90975  0.90975  0.90975\n",
      "5   0.92600  0.92575  0.92575  0.92550\n",
      "6   0.94125  0.93975  0.93850  0.93750\n",
      "7   0.95400  0.95125  0.95050  0.94750\n",
      "8   0.96800  0.96350  0.96125  0.95675\n",
      "9   0.97800  0.97075  0.96650  0.96125\n",
      "10  0.98350  0.97425  0.97125  0.96250\n",
      "11  0.98800  0.97725  0.97350  0.96475\n",
      "12  0.99075  0.97850  0.97475  0.96600\n",
      "13  0.99300  0.97975  0.97575  0.96700\n",
      "14  0.99400  0.98100  0.97625  0.96725\n",
      "15  0.99575  0.98275  0.97600  0.96700, 'test':            1         2         3         4\n",
      "3   0.780000  0.780000  0.780000  0.780000\n",
      "4   0.804167  0.804167  0.804167  0.804167\n",
      "5   0.807500  0.807500  0.807500  0.811667\n",
      "6   0.786667  0.794167  0.808333  0.811667\n",
      "7   0.775833  0.783333  0.800833  0.809167\n",
      "8   0.789167  0.795833  0.795833  0.819167\n",
      "9   0.779167  0.790000  0.803333  0.811667\n",
      "10  0.793333  0.785833  0.793333  0.800833\n",
      "11  0.785833  0.783333  0.796667  0.800000\n",
      "12  0.785833  0.775833  0.796667  0.810833\n",
      "13  0.775833  0.795000  0.800000  0.807500\n",
      "14  0.774167  0.781667  0.800833  0.805000\n",
      "15  0.771667  0.792500  0.793333  0.810000}\n",
      "**********\n"
     ]
    },
    {
     "data": {
      "application/vnd.jupyter.widget-view+json": {
       "model_id": "",
       "version_major": 2,
       "version_minor": 0
      },
      "text/plain": [
       "  0%|          | 0/13 [00:00<?, ?it/s]"
      ]
     },
     "metadata": {},
     "output_type": "display_data"
    },
    {
     "name": "stdout",
     "output_type": "stream",
     "text": [
      "RU word\n",
      "{'train':            1         2         3         4\n",
      "3   0.971120  0.971120  0.971120  0.971120\n",
      "4   0.980161  0.979910  0.979407  0.979156\n",
      "5   0.986941  0.985686  0.984932  0.983928\n",
      "6   0.991462  0.990457  0.989453  0.988197\n",
      "7   0.994977  0.993471  0.992215  0.990457\n",
      "8   0.997489  0.994977  0.993973  0.991462\n",
      "9   0.998493  0.996986  0.994475  0.991713\n",
      "10  0.999749  0.996735  0.994726  0.992215\n",
      "11  1.000000  0.996484  0.994726  0.991713\n",
      "12  1.000000  0.996484  0.994475  0.991964\n",
      "13  1.000000  0.996484  0.994475  0.992466\n",
      "14  1.000000  0.996233  0.994977  0.992215\n",
      "15  1.000000  0.996986  0.994475  0.992466, 'test':            1         2         3         4\n",
      "3   0.724080  0.724080  0.724080  0.724080\n",
      "4   0.721572  0.721572  0.698997  0.721572\n",
      "5   0.729933  0.759197  0.734950  0.757525\n",
      "6   0.737458  0.757525  0.760033  0.757525\n",
      "7   0.740803  0.760870  0.729933  0.729933\n",
      "8   0.745819  0.750836  0.774247  0.748328\n",
      "9   0.750836  0.727425  0.729097  0.730769\n",
      "10  0.747492  0.725753  0.752508  0.750836\n",
      "11  0.748328  0.762542  0.729933  0.761706\n",
      "12  0.723244  0.731605  0.760033  0.752508\n",
      "13  0.734114  0.752508  0.739967  0.754181\n",
      "14  0.719900  0.762542  0.730769  0.735786\n",
      "15  0.725753  0.725753  0.737458  0.751672}\n",
      "**********\n"
     ]
    },
    {
     "data": {
      "application/vnd.jupyter.widget-view+json": {
       "model_id": "",
       "version_major": 2,
       "version_minor": 0
      },
      "text/plain": [
       "  0%|          | 0/13 [00:00<?, ?it/s]"
      ]
     },
     "metadata": {},
     "output_type": "display_data"
    },
    {
     "name": "stdout",
     "output_type": "stream",
     "text": [
      "RU bigram\n",
      "{'train':            1         2         3         4\n",
      "3   0.940231  0.940231  0.940231  0.940231\n",
      "4   0.958061  0.958061  0.958061  0.958061\n",
      "5   0.971622  0.971120  0.971120  0.970618\n",
      "6   0.978905  0.976394  0.975640  0.974134\n",
      "7   0.986690  0.983174  0.982923  0.982923\n",
      "8   0.991964  0.987946  0.988448  0.986690\n",
      "9   0.994977  0.989453  0.990206  0.987946\n",
      "10  0.996233  0.989704  0.990206  0.987695\n",
      "11  0.998242  0.990708  0.990206  0.987695\n",
      "12  0.998242  0.991210  0.990206  0.987695\n",
      "13  0.998744  0.991964  0.990457  0.987695\n",
      "14  0.999247  0.992215  0.990457  0.987443\n",
      "15  0.999749  0.992466  0.990708  0.987695, 'test':            1         2         3         4\n",
      "3   0.701255  0.701255  0.701255  0.701255\n",
      "4   0.698745  0.698745  0.698745  0.698745\n",
      "5   0.702929  0.701255  0.701255  0.701255\n",
      "6   0.701255  0.703766  0.703766  0.702929\n",
      "7   0.693724  0.697071  0.697071  0.702092\n",
      "8   0.688703  0.700418  0.698745  0.697908\n",
      "9   0.692050  0.702929  0.698745  0.700418\n",
      "10  0.687029  0.704603  0.702092  0.701255\n",
      "11  0.690377  0.697908  0.696234  0.698745\n",
      "12  0.698745  0.700418  0.702929  0.701255\n",
      "13  0.688703  0.696234  0.694561  0.699582\n",
      "14  0.692050  0.699582  0.697071  0.702092\n",
      "15  0.687866  0.698745  0.700418  0.703766}\n",
      "**********\n"
     ]
    },
    {
     "data": {
      "application/vnd.jupyter.widget-view+json": {
       "model_id": "",
       "version_major": 2,
       "version_minor": 0
      },
      "text/plain": [
       "  0%|          | 0/13 [00:00<?, ?it/s]"
      ]
     },
     "metadata": {},
     "output_type": "display_data"
    },
    {
     "name": "stdout",
     "output_type": "stream",
     "text": [
      "RU trigram\n",
      "{'train':            1         2         3         4\n",
      "3   0.934224  0.934224  0.934224  0.934224\n",
      "4   0.947581  0.947329  0.947329  0.947329\n",
      "5   0.957661  0.957157  0.956401  0.955645\n",
      "6   0.972782  0.971270  0.970514  0.967994\n",
      "7   0.981099  0.978579  0.977319  0.975554\n",
      "8   0.987147  0.983871  0.981099  0.978327\n",
      "9   0.991431  0.986139  0.983367  0.980595\n",
      "10  0.993952  0.988155  0.984123  0.980847\n",
      "11  0.994456  0.989163  0.984879  0.980847\n",
      "12  0.995716  0.989163  0.985635  0.980847\n",
      "13  0.996724  0.990171  0.986391  0.980847\n",
      "14  0.997480  0.991431  0.986391  0.980847\n",
      "15  0.998740  0.991431  0.986895  0.982611, 'test':            1         2         3         4\n",
      "3   0.746835  0.746835  0.746835  0.746835\n",
      "4   0.730802  0.730802  0.730802  0.730802\n",
      "5   0.707173  0.708861  0.705485  0.708017\n",
      "6   0.720675  0.720675  0.721519  0.719831\n",
      "7   0.728270  0.728270  0.726582  0.735021\n",
      "8   0.728270  0.729958  0.724895  0.731646\n",
      "9   0.737553  0.734177  0.738397  0.724895\n",
      "10  0.737553  0.751899  0.799156  0.723207\n",
      "11  0.740928  0.751899  0.792405  0.722363\n",
      "12  0.740928  0.821941  0.794937  0.731646\n",
      "13  0.742616  0.747679  0.792405  0.727426\n",
      "14  0.736709  0.803376  0.794093  0.736709\n",
      "15  0.738397  0.821941  0.793249  0.729114}\n",
      "**********\n"
     ]
    }
   ],
   "source": [
    "dt_res = {'EN': {}, 'RU': {}}\n",
    "for lang in ['EN', 'RU']:\n",
    "    for part in ['word', 'bigram', 'trigram']:\n",
    "        try:\n",
    "            train_df = train_data[lang][part]\n",
    "            test_df = test_data[lang][part]\n",
    "            res = decision_tree_classifier(\n",
    "                train_df[train_df.columns[:-2]], train_df[train_df.columns[-1]] == 'lit', \n",
    "                test_df[test_df.columns[:-2]], test_df[test_df.columns[-1]] == 'lit'\n",
    "            )\n",
    "            dt_res[lang][part] = res\n",
    "            print(lang, part)\n",
    "            print(res[1])\n",
    "            print('*' * 10)\n",
    "        except:\n",
    "            continue"
   ]
  },
  {
   "cell_type": "code",
   "execution_count": 90,
   "id": "9f49972c-ac77-480e-8599-2c50b498457d",
   "metadata": {},
   "outputs": [],
   "source": [
    "np.save('classification/dt_gpt2_balaboba.npy', dt_res)"
   ]
  },
  {
   "cell_type": "code",
   "execution_count": 15,
   "id": "07b680ec-ffbb-45a0-b870-45c6e7fe4b1a",
   "metadata": {
    "scrolled": true
   },
   "outputs": [
    {
     "data": {
      "application/vnd.jupyter.widget-view+json": {
       "model_id": "",
       "version_major": 2,
       "version_minor": 0
      },
      "text/plain": [
       "  0%|          | 0/13 [00:00<?, ?it/s]"
      ]
     },
     "metadata": {},
     "output_type": "display_data"
    },
    {
     "name": "stdout",
     "output_type": "stream",
     "text": [
      "EN word\n",
      "1    1.00000\n",
      "2    0.99450\n",
      "3    0.99075\n",
      "4    0.98750\n",
      "dtype: float64 1    0.856667\n",
      "2    0.855000\n",
      "3    0.855000\n",
      "4    0.855000\n",
      "dtype: float64\n",
      "**********\n"
     ]
    },
    {
     "data": {
      "application/vnd.jupyter.widget-view+json": {
       "model_id": "",
       "version_major": 2,
       "version_minor": 0
      },
      "text/plain": [
       "  0%|          | 0/13 [00:00<?, ?it/s]"
      ]
     },
     "metadata": {},
     "output_type": "display_data"
    },
    {
     "name": "stdout",
     "output_type": "stream",
     "text": [
      "EN bigram\n",
      "1    1.0000\n",
      "2    0.9970\n",
      "3    0.9915\n",
      "4    0.9870\n",
      "dtype: float64 1    0.926667\n",
      "2    0.925000\n",
      "3    0.930000\n",
      "4    0.923333\n",
      "dtype: float64\n",
      "**********\n"
     ]
    },
    {
     "data": {
      "application/vnd.jupyter.widget-view+json": {
       "model_id": "",
       "version_major": 2,
       "version_minor": 0
      },
      "text/plain": [
       "  0%|          | 0/13 [00:00<?, ?it/s]"
      ]
     },
     "metadata": {},
     "output_type": "display_data"
    },
    {
     "name": "stdout",
     "output_type": "stream",
     "text": [
      "EN trigram\n",
      "1    0.99925\n",
      "2    0.99250\n",
      "3    0.98050\n",
      "4    0.97475\n",
      "dtype: float64 1    0.923333\n",
      "2    0.927500\n",
      "3    0.924167\n",
      "4    0.924167\n",
      "dtype: float64\n",
      "**********\n"
     ]
    },
    {
     "data": {
      "application/vnd.jupyter.widget-view+json": {
       "model_id": "",
       "version_major": 2,
       "version_minor": 0
      },
      "text/plain": [
       "  0%|          | 0/13 [00:00<?, ?it/s]"
      ]
     },
     "metadata": {},
     "output_type": "display_data"
    },
    {
     "name": "stdout",
     "output_type": "stream",
     "text": [
      "RU word\n",
      "1    1.000000\n",
      "2    0.999498\n",
      "3    0.996986\n",
      "4    0.996233\n",
      "dtype: float64 1    0.749164\n",
      "2    0.755853\n",
      "3    0.744983\n",
      "4    0.745819\n",
      "dtype: float64\n",
      "**********\n"
     ]
    },
    {
     "data": {
      "application/vnd.jupyter.widget-view+json": {
       "model_id": "",
       "version_major": 2,
       "version_minor": 0
      },
      "text/plain": [
       "  0%|          | 0/13 [00:00<?, ?it/s]"
      ]
     },
     "metadata": {},
     "output_type": "display_data"
    },
    {
     "name": "stdout",
     "output_type": "stream",
     "text": [
      "RU bigram\n",
      "1    1.000000\n",
      "2    0.999498\n",
      "3    0.997238\n",
      "4    0.992968\n",
      "dtype: float64 1    0.725523\n",
      "2    0.720502\n",
      "3    0.719665\n",
      "4    0.721339\n",
      "dtype: float64\n",
      "**********\n"
     ]
    },
    {
     "data": {
      "application/vnd.jupyter.widget-view+json": {
       "model_id": "",
       "version_major": 2,
       "version_minor": 0
      },
      "text/plain": [
       "  0%|          | 0/13 [00:00<?, ?it/s]"
      ]
     },
     "metadata": {},
     "output_type": "display_data"
    },
    {
     "name": "stdout",
     "output_type": "stream",
     "text": [
      "RU trigram\n",
      "1    0.999748\n",
      "2    0.997228\n",
      "3    0.995212\n",
      "4    0.991431\n",
      "dtype: float64 1    0.755274\n",
      "2    0.748523\n",
      "3    0.748523\n",
      "4    0.745992\n",
      "dtype: float64\n",
      "**********\n"
     ]
    }
   ],
   "source": [
    "rf_res = {'EN': {}, 'RU': {}}\n",
    "for lang in ['EN', 'RU']:\n",
    "    for part in ['word', 'bigram', 'trigram']:\n",
    "        try:\n",
    "            train_df = train_data[lang][part]\n",
    "            test_df = test_data[lang][part]\n",
    "            res = decision_tree_classifier(\n",
    "                train_df[train_df.columns[:-2]], train_df[train_df.columns[-1]] == 'lit', \n",
    "                test_df[test_df.columns[:-2]], test_df[test_df.columns[-1]] == 'lit', random_forest=True\n",
    "            )\n",
    "            rf_res[lang][part] = res\n",
    "            print(lang, part)\n",
    "            print(res[1]['train'].max(), res[1]['test'].max())\n",
    "            print('*' * 10)\n",
    "        except:\n",
    "            continue"
   ]
  },
  {
   "cell_type": "code",
   "execution_count": 96,
   "id": "224842c7-a51f-46d9-a0f1-0b842c0601b3",
   "metadata": {},
   "outputs": [],
   "source": [
    "np.save('classification/rf_gpt2_balaboba.npy', rf_res)"
   ]
  },
  {
   "cell_type": "markdown",
   "id": "8f7fe4ef-1ac3-4990-b5cb-37e4535f0dda",
   "metadata": {
    "jp-MarkdownHeadingCollapsed": true
   },
   "source": [
    "# Cross"
   ]
  },
  {
   "cell_type": "code",
   "execution_count": 65,
   "id": "d693156f-6c51-44a7-b2fd-c638e2cbe932",
   "metadata": {},
   "outputs": [],
   "source": [
    "import glob\n",
    "np.random.seed(2024)\n",
    "bot_names = ['lstm', 'balaboba', 'gpt2', 'mGPT']\n",
    "def get_train_test_datasets(lang=\"RU\", part=\"word\", bot_subset=(\"gpt2\", \"balaboba\")):\n",
    "    def read_subdf(filename, text_type):\n",
    "        a = pd.read_csv(filename)\n",
    "        a[a.columns[-2]] = a[a.columns[-2]].astype(int)\n",
    "        a['text_type'] = text_type\n",
    "        return a\n",
    "    \n",
    "    lit_train = read_subdf(f\"features/Train_{lang}_lit_{part}_features.csv\", \"lit\")\n",
    "    \n",
    "    ## Crop for all cases except for dataset\n",
    "    lit_train_idx = np.random.choice(len(lit_train), 600)\n",
    "    lit_train = lit_train.iloc[lit_train_idx].reset_index(drop=True)    \n",
    "    \n",
    "    lit_test = read_subdf(f\"features/Test_{lang}_lit_{part}_features.csv\", \"lit\")\n",
    "    \n",
    "    bot_train = []\n",
    "    bot_test = []\n",
    "    for text_type in bot_names:\n",
    "        fn = glob.glob(f\"features/*_{lang}_{text_type}_{part}_features.csv\")[0]\n",
    "        bot_df = read_subdf(fn, text_type)\n",
    "        if len(bot_df) > 300:\n",
    "            idx = np.random.choice(len(bot_df), 300)\n",
    "            bot_df = bot_df.iloc[idx].reset_index(drop=True)    \n",
    "        if text_type in bot_subset:\n",
    "            bot_train.append(bot_df)\n",
    "        else:\n",
    "            bot_test.append(bot_df)\n",
    "    return (\n",
    "        pd.concat([lit_train] + bot_train).reset_index(drop=True),\n",
    "        pd.concat([lit_test] + bot_test).reset_index(drop=True)\n",
    "    )"
   ]
  },
  {
   "cell_type": "code",
   "execution_count": 106,
   "id": "9981855b-7c3d-4ebc-93a8-4b3c033eadbf",
   "metadata": {},
   "outputs": [],
   "source": [
    "def pipeline_clf(bot_subset, method='svc'):\n",
    "    results = {'EN': {}, 'RU': {}}\n",
    "    for lang in ['EN', 'RU']:\n",
    "        for part in ['word', 'bigram', 'trigram']:\n",
    "            try:\n",
    "                train_df, test_df = get_train_test_datasets(lang, part, bot_subset)\n",
    "                # print(\"\\tTrain text types:\", train_df.text_type.unique())\n",
    "                # print(\"\\tTest text types:\", test_df.text_type.unique())\n",
    "                # print(\"\\n\")\n",
    "                if method == 'svc':\n",
    "                    res = svc_classifier(\n",
    "                        train_df[train_df.columns[:-2]], train_df[train_df.columns[-1]] == 'lit', \n",
    "                        test_df[test_df.columns[:-2]], test_df[test_df.columns[-1]] == 'lit'\n",
    "                    )\n",
    "                elif method == 'dt':\n",
    "                    res = decision_tree_classifier(\n",
    "                        train_df[train_df.columns[:-2]], train_df[train_df.columns[-1]] == 'lit', \n",
    "                        test_df[test_df.columns[:-2]], test_df[test_df.columns[-1]] == 'lit'\n",
    "                    )\n",
    "                elif method == 'rf':\n",
    "                    res = decision_tree_classifier(\n",
    "                        train_df[train_df.columns[:-2]], train_df[train_df.columns[-1]] == 'lit', \n",
    "                        test_df[test_df.columns[:-2]], test_df[test_df.columns[-1]] == 'lit',\n",
    "                        random_forest=True\n",
    "                    )\n",
    "                results[lang][part] = res\n",
    "                print(lang, part)\n",
    "                if method == 'svc':\n",
    "                    print(res[1])\n",
    "                else:\n",
    "                    print(res[1]['train'].values.max(), res[1]['test'].values.max())\n",
    "                print('*' * 10)\n",
    "            except:\n",
    "                continue\n",
    "    return results"
   ]
  },
  {
   "cell_type": "code",
   "execution_count": 66,
   "id": "03a9cbb6-baa0-4861-8300-eb75da0f4028",
   "metadata": {},
   "outputs": [],
   "source": [
    "train_data, test_data = get_train_test_datasets(\"RU\", \"word\", ('lstm', 'balaboba'))"
   ]
  },
  {
   "cell_type": "code",
   "execution_count": 18,
   "id": "f4b0800d-d801-48b3-b4a6-5c703d36fade",
   "metadata": {},
   "outputs": [],
   "source": [
    "bot_names = ['lstm', 'balaboba', 'gpt2', 'mGPT']"
   ]
  },
  {
   "cell_type": "code",
   "execution_count": 109,
   "id": "4d47f5b4-f791-4645-bb31-5fbefe008629",
   "metadata": {},
   "outputs": [
    {
     "data": {
      "text/plain": [
       "[('lstm', 'balaboba'),\n",
       " ('lstm', 'gpt2'),\n",
       " ('lstm', 'mGPT'),\n",
       " ('balaboba', 'gpt2'),\n",
       " ('balaboba', 'mGPT'),\n",
       " ('gpt2', 'mGPT')]"
      ]
     },
     "execution_count": 109,
     "metadata": {},
     "output_type": "execute_result"
    }
   ],
   "source": [
    "list(combinations(bot_names, r=2))"
   ]
  },
  {
   "cell_type": "code",
   "execution_count": 107,
   "id": "716e5e08-397c-41bf-b89c-f392b8888ea2",
   "metadata": {
    "scrolled": true
   },
   "outputs": [
    {
     "data": {
      "application/vnd.jupyter.widget-view+json": {
       "model_id": "3cbd812bca2c49bbafce35b3df994670",
       "version_major": 2,
       "version_minor": 0
      },
      "text/plain": [
       "  0%|          | 0/5 [00:00<?, ?it/s]"
      ]
     },
     "metadata": {},
     "output_type": "display_data"
    },
    {
     "name": "stdout",
     "output_type": "stream",
     "text": [
      "('lstm', 'balaboba')\n",
      "EN word\n",
      "{'train_acc': 0.8791666666666667, 'test_acc': 0.9216666666666666, 'auc_roc_test': 0.9635499999999999, 'auc_pr_test': 0.9617800567270754}\n",
      "**********\n",
      "EN bigram\n",
      "{'train_acc': 0.9466666666666667, 'test_acc': 0.94, 'auc_roc_test': 0.9810583333333334, 'auc_pr_test': 0.9808498271782691}\n",
      "**********\n",
      "EN trigram\n",
      "{'train_acc': 0.9216666666666666, 'test_acc': 0.8858333333333334, 'auc_roc_test': 0.9443999999999999, 'auc_pr_test': 0.9269972915923191}\n",
      "**********\n",
      "RU word\n",
      "{'train_acc': 0.93, 'test_acc': 0.9163879598662207, 'auc_roc_test': 0.9710262863534675, 'auc_pr_test': 0.9695137384962567}\n",
      "**********\n",
      "RU bigram\n",
      "{'train_acc': 0.9616666666666667, 'test_acc': 0.9372384937238494, 'auc_roc_test': 0.9744456644743477, 'auc_pr_test': 0.9527721519961833}\n",
      "**********\n",
      "RU trigram\n",
      "{'train_acc': 0.9633333333333334, 'test_acc': 0.9341772151898734, 'auc_roc_test': 0.9688990172340123, 'auc_pr_test': 0.9337620239434523}\n",
      "**********\n",
      "**************************************************\n",
      "\n",
      "\n",
      "\n",
      "('lstm', 'gpt2')\n",
      "EN word\n",
      "{'train_acc': 0.9191666666666667, 'test_acc': 0.9025, 'auc_roc_test': 0.9609055555555556, 'auc_pr_test': 0.9455698007637741}\n",
      "**********\n",
      "EN bigram\n",
      "{'train_acc': 0.9716666666666667, 'test_acc': 0.925, 'auc_roc_test': 0.9704388888888889, 'auc_pr_test': 0.9666014126776687}\n",
      "**********\n",
      "EN trigram\n",
      "{'train_acc': 0.9516666666666667, 'test_acc': 0.83, 'auc_roc_test': 0.903175, 'auc_pr_test': 0.8790054528365194}\n",
      "**********\n",
      "RU word\n",
      "{'train_acc': 0.9466666666666667, 'test_acc': 0.8954849498327759, 'auc_roc_test': 0.9641890380313198, 'auc_pr_test': 0.9678833095090589}\n",
      "**********\n",
      "RU bigram\n",
      "{'train_acc': 0.975, 'test_acc': 0.8518828451882845, 'auc_roc_test': 0.9556027383446684, 'auc_pr_test': 0.9239838990297261}\n",
      "**********\n",
      "RU trigram\n",
      "{'train_acc': 0.9708333333333333, 'test_acc': 0.9240506329113924, 'auc_roc_test': 0.9640165218629825, 'auc_pr_test': 0.9252425570426895}\n",
      "**********\n",
      "**************************************************\n",
      "\n",
      "\n",
      "\n",
      "('lstm', 'mGPT')\n",
      "EN word\n",
      "{'train_acc': 0.8775, 'test_acc': 0.7708333333333334, 'auc_roc_test': 0.9252194444444444, 'auc_pr_test': 0.9420363085249082}\n",
      "**********\n",
      "EN bigram\n",
      "{'train_acc': 0.9641666666666666, 'test_acc': 0.8683333333333333, 'auc_roc_test': 0.9488472222222222, 'auc_pr_test': 0.9357078462294679}\n",
      "**********\n",
      "EN trigram\n",
      "{'train_acc': 0.9675, 'test_acc': 0.8408333333333333, 'auc_roc_test': 0.9266416666666667, 'auc_pr_test': 0.9210796417400191}\n",
      "**********\n",
      "RU word\n",
      "{'train_acc': 0.9391666666666667, 'test_acc': 0.9523411371237458, 'auc_roc_test': 0.9806627516778524, 'auc_pr_test': 0.975436360746695}\n",
      "**********\n",
      "RU bigram\n",
      "{'train_acc': 0.9858215179316097, 'test_acc': 0.790133779264214, 'auc_roc_test': 0.9410766219239374, 'auc_pr_test': 0.9037318122914383}\n",
      "**********\n",
      "RU trigram\n",
      "{'train_acc': 0.9638655462184874, 'test_acc': 0.8845188284518829, 'auc_roc_test': 0.9513305322128851, 'auc_pr_test': 0.9119695220774376}\n",
      "**********\n",
      "**************************************************\n",
      "\n",
      "\n",
      "\n",
      "('balaboba', 'mGPT')\n",
      "EN word\n",
      "{'train_acc': 0.9583333333333334, 'test_acc': 0.84, 'auc_roc_test': 0.9335916666666666, 'auc_pr_test': 0.9442085630652454}\n",
      "**********\n",
      "EN bigram\n",
      "{'train_acc': 0.9591666666666666, 'test_acc': 0.94, 'auc_roc_test': 0.9781972222222222, 'auc_pr_test': 0.9838782506635139}\n",
      "**********\n",
      "EN trigram\n",
      "{'train_acc': 0.8925, 'test_acc': 0.7641666666666667, 'auc_roc_test': 0.90465, 'auc_pr_test': 0.9192106323797177}\n",
      "**********\n",
      "RU word\n",
      "{'train_acc': 0.9633333333333334, 'test_acc': 0.7792642140468228, 'auc_roc_test': 0.9439988814317674, 'auc_pr_test': 0.9530238478181595}\n",
      "**********\n",
      "RU bigram\n",
      "{'train_acc': 0.9741451209341118, 'test_acc': 0.7274247491638796, 'auc_roc_test': 0.827273489932886, 'auc_pr_test': 0.839531076935865}\n",
      "**********\n",
      "RU trigram\n",
      "{'train_acc': 0.9647058823529412, 'test_acc': 0.7205020920502092, 'auc_roc_test': 0.7967843137254902, 'auc_pr_test': 0.7653662670548447}\n",
      "**********\n",
      "**************************************************\n",
      "\n",
      "\n",
      "\n",
      "('gpt2', 'mGPT')\n",
      "EN word\n",
      "{'train_acc': 0.9716666666666667, 'test_acc': 0.8025, 'auc_roc_test': 0.927086111111111, 'auc_pr_test': 0.9370091134241021}\n",
      "**********\n",
      "EN bigram\n",
      "{'train_acc': 0.9683333333333334, 'test_acc': 0.8783333333333333, 'auc_roc_test': 0.9714361111111111, 'auc_pr_test': 0.9773407193538987}\n",
      "**********\n",
      "EN trigram\n",
      "{'train_acc': 0.935, 'test_acc': 0.7216666666666667, 'auc_roc_test': 0.8896888888888889, 'auc_pr_test': 0.900134481438679}\n",
      "**********\n",
      "RU word\n",
      "{'train_acc': 0.9708333333333333, 'test_acc': 0.7290969899665551, 'auc_roc_test': 0.9030285234899329, 'auc_pr_test': 0.920275759808401}\n",
      "**********\n",
      "RU bigram\n",
      "{'train_acc': 0.9883236030025021, 'test_acc': 0.7031772575250836, 'auc_roc_test': 0.8010570469798658, 'auc_pr_test': 0.811312821461323}\n",
      "**********\n",
      "RU trigram\n",
      "{'train_acc': 0.9613445378151261, 'test_acc': 0.704602510460251, 'auc_roc_test': 0.6130952380952381, 'auc_pr_test': 0.534844623956269}\n",
      "**********\n",
      "**************************************************\n",
      "\n",
      "\n",
      "\n"
     ]
    }
   ],
   "source": [
    "from itertools import combinations\n",
    "method = \"svc\"\n",
    "for bot_subset in tqdm(combinations(bot_names, r=2), total=6):\n",
    "    if sorted(bot_subset) == ['balaboba', 'gpt2']: continue\n",
    "    print(bot_subset)\n",
    "    res = pipeline_clf(bot_subset, method)\n",
    "    save_file = f\"classification/{method}_{bot_subset[0]}_{bot_subset[1]}.npy\"\n",
    "    np.save(save_file, res)\n",
    "    print(\"*\" * 50)\n",
    "    print(\"\\n\\n\")"
   ]
  },
  {
   "cell_type": "code",
   "execution_count": 110,
   "id": "ee131316-5de4-4df5-9025-8078578ee9bf",
   "metadata": {
    "scrolled": true
   },
   "outputs": [
    {
     "data": {
      "application/vnd.jupyter.widget-view+json": {
       "model_id": "a565a93f2c854d5a9836c50a9ed136bd",
       "version_major": 2,
       "version_minor": 0
      },
      "text/plain": [
       "  0%|          | 0/6 [00:00<?, ?it/s]"
      ]
     },
     "metadata": {},
     "output_type": "display_data"
    },
    {
     "name": "stdout",
     "output_type": "stream",
     "text": [
      "('lstm', 'balaboba')\n"
     ]
    },
    {
     "data": {
      "application/vnd.jupyter.widget-view+json": {
       "model_id": "",
       "version_major": 2,
       "version_minor": 0
      },
      "text/plain": [
       "  0%|          | 0/13 [00:00<?, ?it/s]"
      ]
     },
     "metadata": {},
     "output_type": "display_data"
    },
    {
     "name": "stdout",
     "output_type": "stream",
     "text": [
      "EN word\n",
      "1.0 0.9316666666666666\n",
      "**********\n"
     ]
    },
    {
     "data": {
      "application/vnd.jupyter.widget-view+json": {
       "model_id": "",
       "version_major": 2,
       "version_minor": 0
      },
      "text/plain": [
       "  0%|          | 0/13 [00:00<?, ?it/s]"
      ]
     },
     "metadata": {},
     "output_type": "display_data"
    },
    {
     "name": "stdout",
     "output_type": "stream",
     "text": [
      "EN bigram\n",
      "1.0 0.935\n",
      "**********\n"
     ]
    },
    {
     "data": {
      "application/vnd.jupyter.widget-view+json": {
       "model_id": "",
       "version_major": 2,
       "version_minor": 0
      },
      "text/plain": [
       "  0%|          | 0/13 [00:00<?, ?it/s]"
      ]
     },
     "metadata": {},
     "output_type": "display_data"
    },
    {
     "name": "stdout",
     "output_type": "stream",
     "text": [
      "EN trigram\n",
      "1.0 0.8783333333333333\n",
      "**********\n"
     ]
    },
    {
     "data": {
      "application/vnd.jupyter.widget-view+json": {
       "model_id": "",
       "version_major": 2,
       "version_minor": 0
      },
      "text/plain": [
       "  0%|          | 0/13 [00:00<?, ?it/s]"
      ]
     },
     "metadata": {},
     "output_type": "display_data"
    },
    {
     "name": "stdout",
     "output_type": "stream",
     "text": [
      "RU word\n",
      "1.0 0.9080267558528428\n",
      "**********\n"
     ]
    },
    {
     "data": {
      "application/vnd.jupyter.widget-view+json": {
       "model_id": "",
       "version_major": 2,
       "version_minor": 0
      },
      "text/plain": [
       "  0%|          | 0/13 [00:00<?, ?it/s]"
      ]
     },
     "metadata": {},
     "output_type": "display_data"
    },
    {
     "name": "stdout",
     "output_type": "stream",
     "text": [
      "RU bigram\n",
      "1.0 0.8861924686192468\n",
      "**********\n"
     ]
    },
    {
     "data": {
      "application/vnd.jupyter.widget-view+json": {
       "model_id": "",
       "version_major": 2,
       "version_minor": 0
      },
      "text/plain": [
       "  0%|          | 0/13 [00:00<?, ?it/s]"
      ]
     },
     "metadata": {},
     "output_type": "display_data"
    },
    {
     "name": "stdout",
     "output_type": "stream",
     "text": [
      "RU trigram\n",
      "1.0 0.8860759493670886\n",
      "**********\n",
      "**************************************************\n",
      "\n",
      "\n",
      "\n",
      "('lstm', 'gpt2')\n"
     ]
    },
    {
     "data": {
      "application/vnd.jupyter.widget-view+json": {
       "model_id": "",
       "version_major": 2,
       "version_minor": 0
      },
      "text/plain": [
       "  0%|          | 0/13 [00:00<?, ?it/s]"
      ]
     },
     "metadata": {},
     "output_type": "display_data"
    },
    {
     "name": "stdout",
     "output_type": "stream",
     "text": [
      "EN word\n",
      "1.0 0.8891666666666667\n",
      "**********\n"
     ]
    },
    {
     "data": {
      "application/vnd.jupyter.widget-view+json": {
       "model_id": "",
       "version_major": 2,
       "version_minor": 0
      },
      "text/plain": [
       "  0%|          | 0/13 [00:00<?, ?it/s]"
      ]
     },
     "metadata": {},
     "output_type": "display_data"
    },
    {
     "name": "stdout",
     "output_type": "stream",
     "text": [
      "EN bigram\n",
      "1.0 0.9141666666666667\n",
      "**********\n"
     ]
    },
    {
     "data": {
      "application/vnd.jupyter.widget-view+json": {
       "model_id": "",
       "version_major": 2,
       "version_minor": 0
      },
      "text/plain": [
       "  0%|          | 0/13 [00:00<?, ?it/s]"
      ]
     },
     "metadata": {},
     "output_type": "display_data"
    },
    {
     "name": "stdout",
     "output_type": "stream",
     "text": [
      "EN trigram\n",
      "1.0 0.8125\n",
      "**********\n"
     ]
    },
    {
     "data": {
      "application/vnd.jupyter.widget-view+json": {
       "model_id": "",
       "version_major": 2,
       "version_minor": 0
      },
      "text/plain": [
       "  0%|          | 0/13 [00:00<?, ?it/s]"
      ]
     },
     "metadata": {},
     "output_type": "display_data"
    },
    {
     "name": "stdout",
     "output_type": "stream",
     "text": [
      "RU word\n",
      "1.0 0.9255852842809364\n",
      "**********\n"
     ]
    },
    {
     "data": {
      "application/vnd.jupyter.widget-view+json": {
       "model_id": "",
       "version_major": 2,
       "version_minor": 0
      },
      "text/plain": [
       "  0%|          | 0/13 [00:00<?, ?it/s]"
      ]
     },
     "metadata": {},
     "output_type": "display_data"
    },
    {
     "name": "stdout",
     "output_type": "stream",
     "text": [
      "RU bigram\n",
      "1.0 0.8761506276150628\n",
      "**********\n"
     ]
    },
    {
     "data": {
      "application/vnd.jupyter.widget-view+json": {
       "model_id": "",
       "version_major": 2,
       "version_minor": 0
      },
      "text/plain": [
       "  0%|          | 0/13 [00:00<?, ?it/s]"
      ]
     },
     "metadata": {},
     "output_type": "display_data"
    },
    {
     "name": "stdout",
     "output_type": "stream",
     "text": [
      "RU trigram\n",
      "1.0 0.8827004219409282\n",
      "**********\n",
      "**************************************************\n",
      "\n",
      "\n",
      "\n",
      "('lstm', 'mGPT')\n"
     ]
    },
    {
     "data": {
      "application/vnd.jupyter.widget-view+json": {
       "model_id": "",
       "version_major": 2,
       "version_minor": 0
      },
      "text/plain": [
       "  0%|          | 0/13 [00:00<?, ?it/s]"
      ]
     },
     "metadata": {},
     "output_type": "display_data"
    },
    {
     "name": "stdout",
     "output_type": "stream",
     "text": [
      "EN word\n",
      "1.0 0.7675\n",
      "**********\n"
     ]
    },
    {
     "data": {
      "application/vnd.jupyter.widget-view+json": {
       "model_id": "",
       "version_major": 2,
       "version_minor": 0
      },
      "text/plain": [
       "  0%|          | 0/13 [00:00<?, ?it/s]"
      ]
     },
     "metadata": {},
     "output_type": "display_data"
    },
    {
     "name": "stdout",
     "output_type": "stream",
     "text": [
      "EN bigram\n",
      "1.0 0.8658333333333333\n",
      "**********\n"
     ]
    },
    {
     "data": {
      "application/vnd.jupyter.widget-view+json": {
       "model_id": "",
       "version_major": 2,
       "version_minor": 0
      },
      "text/plain": [
       "  0%|          | 0/13 [00:00<?, ?it/s]"
      ]
     },
     "metadata": {},
     "output_type": "display_data"
    },
    {
     "name": "stdout",
     "output_type": "stream",
     "text": [
      "EN trigram\n",
      "1.0 0.7933333333333333\n",
      "**********\n"
     ]
    },
    {
     "data": {
      "application/vnd.jupyter.widget-view+json": {
       "model_id": "",
       "version_major": 2,
       "version_minor": 0
      },
      "text/plain": [
       "  0%|          | 0/13 [00:00<?, ?it/s]"
      ]
     },
     "metadata": {},
     "output_type": "display_data"
    },
    {
     "name": "stdout",
     "output_type": "stream",
     "text": [
      "RU word\n",
      "1.0 0.9280936454849499\n",
      "**********\n"
     ]
    },
    {
     "data": {
      "application/vnd.jupyter.widget-view+json": {
       "model_id": "",
       "version_major": 2,
       "version_minor": 0
      },
      "text/plain": [
       "  0%|          | 0/13 [00:00<?, ?it/s]"
      ]
     },
     "metadata": {},
     "output_type": "display_data"
    },
    {
     "name": "stdout",
     "output_type": "stream",
     "text": [
      "RU bigram\n",
      "1.0 0.8277591973244147\n",
      "**********\n"
     ]
    },
    {
     "data": {
      "application/vnd.jupyter.widget-view+json": {
       "model_id": "",
       "version_major": 2,
       "version_minor": 0
      },
      "text/plain": [
       "  0%|          | 0/13 [00:00<?, ?it/s]"
      ]
     },
     "metadata": {},
     "output_type": "display_data"
    },
    {
     "name": "stdout",
     "output_type": "stream",
     "text": [
      "RU trigram\n",
      "1.0 0.8594142259414226\n",
      "**********\n",
      "**************************************************\n",
      "\n",
      "\n",
      "\n",
      "('balaboba', 'mGPT')\n"
     ]
    },
    {
     "data": {
      "application/vnd.jupyter.widget-view+json": {
       "model_id": "",
       "version_major": 2,
       "version_minor": 0
      },
      "text/plain": [
       "  0%|          | 0/13 [00:00<?, ?it/s]"
      ]
     },
     "metadata": {},
     "output_type": "display_data"
    },
    {
     "name": "stdout",
     "output_type": "stream",
     "text": [
      "EN word\n",
      "1.0 0.8283333333333334\n",
      "**********\n"
     ]
    },
    {
     "data": {
      "application/vnd.jupyter.widget-view+json": {
       "model_id": "",
       "version_major": 2,
       "version_minor": 0
      },
      "text/plain": [
       "  0%|          | 0/13 [00:00<?, ?it/s]"
      ]
     },
     "metadata": {},
     "output_type": "display_data"
    },
    {
     "name": "stdout",
     "output_type": "stream",
     "text": [
      "EN bigram\n",
      "1.0 0.9175\n",
      "**********\n"
     ]
    },
    {
     "data": {
      "application/vnd.jupyter.widget-view+json": {
       "model_id": "",
       "version_major": 2,
       "version_minor": 0
      },
      "text/plain": [
       "  0%|          | 0/13 [00:00<?, ?it/s]"
      ]
     },
     "metadata": {},
     "output_type": "display_data"
    },
    {
     "name": "stdout",
     "output_type": "stream",
     "text": [
      "EN trigram\n",
      "1.0 0.9016666666666666\n",
      "**********\n"
     ]
    },
    {
     "data": {
      "application/vnd.jupyter.widget-view+json": {
       "model_id": "",
       "version_major": 2,
       "version_minor": 0
      },
      "text/plain": [
       "  0%|          | 0/13 [00:00<?, ?it/s]"
      ]
     },
     "metadata": {},
     "output_type": "display_data"
    },
    {
     "name": "stdout",
     "output_type": "stream",
     "text": [
      "RU word\n",
      "1.0 0.8678929765886287\n",
      "**********\n"
     ]
    },
    {
     "data": {
      "application/vnd.jupyter.widget-view+json": {
       "model_id": "",
       "version_major": 2,
       "version_minor": 0
      },
      "text/plain": [
       "  0%|          | 0/13 [00:00<?, ?it/s]"
      ]
     },
     "metadata": {},
     "output_type": "display_data"
    },
    {
     "name": "stdout",
     "output_type": "stream",
     "text": [
      "RU bigram\n",
      "1.0 0.7123745819397993\n",
      "**********\n"
     ]
    },
    {
     "data": {
      "application/vnd.jupyter.widget-view+json": {
       "model_id": "",
       "version_major": 2,
       "version_minor": 0
      },
      "text/plain": [
       "  0%|          | 0/13 [00:00<?, ?it/s]"
      ]
     },
     "metadata": {},
     "output_type": "display_data"
    },
    {
     "name": "stdout",
     "output_type": "stream",
     "text": [
      "RU trigram\n",
      "1.0 0.9271966527196652\n",
      "**********\n",
      "**************************************************\n",
      "\n",
      "\n",
      "\n",
      "('gpt2', 'mGPT')\n"
     ]
    },
    {
     "data": {
      "application/vnd.jupyter.widget-view+json": {
       "model_id": "31d3148598a24c72a9c7be765a53d59c",
       "version_major": 2,
       "version_minor": 0
      },
      "text/plain": [
       "  0%|          | 0/13 [00:00<?, ?it/s]"
      ]
     },
     "metadata": {},
     "output_type": "display_data"
    },
    {
     "name": "stdout",
     "output_type": "stream",
     "text": [
      "EN word\n",
      "1.0 0.84\n",
      "**********\n"
     ]
    },
    {
     "data": {
      "application/vnd.jupyter.widget-view+json": {
       "model_id": "",
       "version_major": 2,
       "version_minor": 0
      },
      "text/plain": [
       "  0%|          | 0/13 [00:00<?, ?it/s]"
      ]
     },
     "metadata": {},
     "output_type": "display_data"
    },
    {
     "name": "stdout",
     "output_type": "stream",
     "text": [
      "EN bigram\n",
      "1.0 0.8658333333333333\n",
      "**********\n"
     ]
    },
    {
     "data": {
      "application/vnd.jupyter.widget-view+json": {
       "model_id": "",
       "version_major": 2,
       "version_minor": 0
      },
      "text/plain": [
       "  0%|          | 0/13 [00:00<?, ?it/s]"
      ]
     },
     "metadata": {},
     "output_type": "display_data"
    },
    {
     "name": "stdout",
     "output_type": "stream",
     "text": [
      "EN trigram\n",
      "1.0 0.8841666666666667\n",
      "**********\n"
     ]
    },
    {
     "data": {
      "application/vnd.jupyter.widget-view+json": {
       "model_id": "",
       "version_major": 2,
       "version_minor": 0
      },
      "text/plain": [
       "  0%|          | 0/13 [00:00<?, ?it/s]"
      ]
     },
     "metadata": {},
     "output_type": "display_data"
    },
    {
     "name": "stdout",
     "output_type": "stream",
     "text": [
      "RU word\n",
      "1.0 0.7792642140468228\n",
      "**********\n"
     ]
    },
    {
     "data": {
      "application/vnd.jupyter.widget-view+json": {
       "model_id": "",
       "version_major": 2,
       "version_minor": 0
      },
      "text/plain": [
       "  0%|          | 0/13 [00:00<?, ?it/s]"
      ]
     },
     "metadata": {},
     "output_type": "display_data"
    },
    {
     "name": "stdout",
     "output_type": "stream",
     "text": [
      "RU bigram\n",
      "1.0 0.7081939799331104\n",
      "**********\n"
     ]
    },
    {
     "data": {
      "application/vnd.jupyter.widget-view+json": {
       "model_id": "",
       "version_major": 2,
       "version_minor": 0
      },
      "text/plain": [
       "  0%|          | 0/13 [00:00<?, ?it/s]"
      ]
     },
     "metadata": {},
     "output_type": "display_data"
    },
    {
     "name": "stdout",
     "output_type": "stream",
     "text": [
      "RU trigram\n",
      "1.0 0.7372384937238494\n",
      "**********\n",
      "**************************************************\n",
      "\n",
      "\n",
      "\n"
     ]
    }
   ],
   "source": [
    "from itertools import combinations\n",
    "method = \"dt\"\n",
    "for bot_subset in tqdm(combinations(bot_names, r=2), total=6):\n",
    "    if sorted(bot_subset) == ['balaboba', 'gpt2']: continue\n",
    "    print(bot_subset)\n",
    "    res = pipeline_clf(bot_subset, method)\n",
    "    save_file = f\"classification/{method}_{bot_subset[0]}_{bot_subset[1]}.npy\"\n",
    "    np.save(save_file, res)\n",
    "    print(\"*\" * 50)\n",
    "    print(\"\\n\\n\")"
   ]
  },
  {
   "cell_type": "code",
   "execution_count": 111,
   "id": "1d451059-c35c-4167-8f5a-7fa1ce13a166",
   "metadata": {
    "scrolled": true
   },
   "outputs": [
    {
     "data": {
      "application/vnd.jupyter.widget-view+json": {
       "model_id": "829528193b1c414a9896a1c03970f0bc",
       "version_major": 2,
       "version_minor": 0
      },
      "text/plain": [
       "  0%|          | 0/6 [00:00<?, ?it/s]"
      ]
     },
     "metadata": {},
     "output_type": "display_data"
    },
    {
     "name": "stdout",
     "output_type": "stream",
     "text": [
      "('lstm', 'balaboba')\n"
     ]
    },
    {
     "data": {
      "application/vnd.jupyter.widget-view+json": {
       "model_id": "",
       "version_major": 2,
       "version_minor": 0
      },
      "text/plain": [
       "  0%|          | 0/13 [00:00<?, ?it/s]"
      ]
     },
     "metadata": {},
     "output_type": "display_data"
    },
    {
     "name": "stdout",
     "output_type": "stream",
     "text": [
      "EN word\n",
      "1.0 0.935\n",
      "**********\n"
     ]
    },
    {
     "data": {
      "application/vnd.jupyter.widget-view+json": {
       "model_id": "",
       "version_major": 2,
       "version_minor": 0
      },
      "text/plain": [
       "  0%|          | 0/13 [00:00<?, ?it/s]"
      ]
     },
     "metadata": {},
     "output_type": "display_data"
    },
    {
     "name": "stdout",
     "output_type": "stream",
     "text": [
      "EN bigram\n",
      "1.0 0.9641666666666666\n",
      "**********\n"
     ]
    },
    {
     "data": {
      "application/vnd.jupyter.widget-view+json": {
       "model_id": "",
       "version_major": 2,
       "version_minor": 0
      },
      "text/plain": [
       "  0%|          | 0/13 [00:00<?, ?it/s]"
      ]
     },
     "metadata": {},
     "output_type": "display_data"
    },
    {
     "name": "stdout",
     "output_type": "stream",
     "text": [
      "EN trigram\n",
      "1.0 0.9141666666666667\n",
      "**********\n"
     ]
    },
    {
     "data": {
      "application/vnd.jupyter.widget-view+json": {
       "model_id": "",
       "version_major": 2,
       "version_minor": 0
      },
      "text/plain": [
       "  0%|          | 0/13 [00:00<?, ?it/s]"
      ]
     },
     "metadata": {},
     "output_type": "display_data"
    },
    {
     "name": "stdout",
     "output_type": "stream",
     "text": [
      "RU word\n",
      "1.0 0.8954849498327759\n",
      "**********\n"
     ]
    },
    {
     "data": {
      "application/vnd.jupyter.widget-view+json": {
       "model_id": "",
       "version_major": 2,
       "version_minor": 0
      },
      "text/plain": [
       "  0%|          | 0/13 [00:00<?, ?it/s]"
      ]
     },
     "metadata": {},
     "output_type": "display_data"
    },
    {
     "name": "stdout",
     "output_type": "stream",
     "text": [
      "RU bigram\n",
      "1.0 0.9288702928870293\n",
      "**********\n"
     ]
    },
    {
     "data": {
      "application/vnd.jupyter.widget-view+json": {
       "model_id": "",
       "version_major": 2,
       "version_minor": 0
      },
      "text/plain": [
       "  0%|          | 0/13 [00:00<?, ?it/s]"
      ]
     },
     "metadata": {},
     "output_type": "display_data"
    },
    {
     "name": "stdout",
     "output_type": "stream",
     "text": [
      "RU trigram\n",
      "1.0 0.9426160337552743\n",
      "**********\n",
      "**************************************************\n",
      "\n",
      "\n",
      "\n",
      "('lstm', 'gpt2')\n"
     ]
    },
    {
     "data": {
      "application/vnd.jupyter.widget-view+json": {
       "model_id": "",
       "version_major": 2,
       "version_minor": 0
      },
      "text/plain": [
       "  0%|          | 0/13 [00:00<?, ?it/s]"
      ]
     },
     "metadata": {},
     "output_type": "display_data"
    },
    {
     "name": "stdout",
     "output_type": "stream",
     "text": [
      "EN word\n",
      "1.0 0.92\n",
      "**********\n"
     ]
    },
    {
     "data": {
      "application/vnd.jupyter.widget-view+json": {
       "model_id": "",
       "version_major": 2,
       "version_minor": 0
      },
      "text/plain": [
       "  0%|          | 0/13 [00:00<?, ?it/s]"
      ]
     },
     "metadata": {},
     "output_type": "display_data"
    },
    {
     "name": "stdout",
     "output_type": "stream",
     "text": [
      "EN bigram\n",
      "1.0 0.9291666666666667\n",
      "**********\n"
     ]
    },
    {
     "data": {
      "application/vnd.jupyter.widget-view+json": {
       "model_id": "",
       "version_major": 2,
       "version_minor": 0
      },
      "text/plain": [
       "  0%|          | 0/13 [00:00<?, ?it/s]"
      ]
     },
     "metadata": {},
     "output_type": "display_data"
    },
    {
     "name": "stdout",
     "output_type": "stream",
     "text": [
      "EN trigram\n",
      "1.0 0.8825\n",
      "**********\n"
     ]
    },
    {
     "data": {
      "application/vnd.jupyter.widget-view+json": {
       "model_id": "",
       "version_major": 2,
       "version_minor": 0
      },
      "text/plain": [
       "  0%|          | 0/13 [00:00<?, ?it/s]"
      ]
     },
     "metadata": {},
     "output_type": "display_data"
    },
    {
     "name": "stdout",
     "output_type": "stream",
     "text": [
      "RU word\n",
      "1.0 0.9214046822742475\n",
      "**********\n"
     ]
    },
    {
     "data": {
      "application/vnd.jupyter.widget-view+json": {
       "model_id": "",
       "version_major": 2,
       "version_minor": 0
      },
      "text/plain": [
       "  0%|          | 0/13 [00:00<?, ?it/s]"
      ]
     },
     "metadata": {},
     "output_type": "display_data"
    },
    {
     "name": "stdout",
     "output_type": "stream",
     "text": [
      "RU bigram\n",
      "1.0 0.9171548117154812\n",
      "**********\n"
     ]
    },
    {
     "data": {
      "application/vnd.jupyter.widget-view+json": {
       "model_id": "",
       "version_major": 2,
       "version_minor": 0
      },
      "text/plain": [
       "  0%|          | 0/13 [00:00<?, ?it/s]"
      ]
     },
     "metadata": {},
     "output_type": "display_data"
    },
    {
     "name": "stdout",
     "output_type": "stream",
     "text": [
      "RU trigram\n",
      "1.0 0.9468354430379747\n",
      "**********\n",
      "**************************************************\n",
      "\n",
      "\n",
      "\n",
      "('lstm', 'mGPT')\n"
     ]
    },
    {
     "data": {
      "application/vnd.jupyter.widget-view+json": {
       "model_id": "",
       "version_major": 2,
       "version_minor": 0
      },
      "text/plain": [
       "  0%|          | 0/13 [00:00<?, ?it/s]"
      ]
     },
     "metadata": {},
     "output_type": "display_data"
    },
    {
     "name": "stdout",
     "output_type": "stream",
     "text": [
      "EN word\n",
      "1.0 0.7733333333333333\n",
      "**********\n"
     ]
    },
    {
     "data": {
      "application/vnd.jupyter.widget-view+json": {
       "model_id": "",
       "version_major": 2,
       "version_minor": 0
      },
      "text/plain": [
       "  0%|          | 0/13 [00:00<?, ?it/s]"
      ]
     },
     "metadata": {},
     "output_type": "display_data"
    },
    {
     "name": "stdout",
     "output_type": "stream",
     "text": [
      "EN bigram\n",
      "1.0 0.8558333333333333\n",
      "**********\n"
     ]
    },
    {
     "data": {
      "application/vnd.jupyter.widget-view+json": {
       "model_id": "",
       "version_major": 2,
       "version_minor": 0
      },
      "text/plain": [
       "  0%|          | 0/13 [00:00<?, ?it/s]"
      ]
     },
     "metadata": {},
     "output_type": "display_data"
    },
    {
     "name": "stdout",
     "output_type": "stream",
     "text": [
      "EN trigram\n",
      "1.0 0.7466666666666667\n",
      "**********\n"
     ]
    },
    {
     "data": {
      "application/vnd.jupyter.widget-view+json": {
       "model_id": "",
       "version_major": 2,
       "version_minor": 0
      },
      "text/plain": [
       "  0%|          | 0/13 [00:00<?, ?it/s]"
      ]
     },
     "metadata": {},
     "output_type": "display_data"
    },
    {
     "name": "stdout",
     "output_type": "stream",
     "text": [
      "RU word\n",
      "1.0 0.9448160535117057\n",
      "**********\n"
     ]
    },
    {
     "data": {
      "application/vnd.jupyter.widget-view+json": {
       "model_id": "",
       "version_major": 2,
       "version_minor": 0
      },
      "text/plain": [
       "  0%|          | 0/13 [00:00<?, ?it/s]"
      ]
     },
     "metadata": {},
     "output_type": "display_data"
    },
    {
     "name": "stdout",
     "output_type": "stream",
     "text": [
      "RU bigram\n",
      "1.0 0.9113712374581939\n",
      "**********\n"
     ]
    },
    {
     "data": {
      "application/vnd.jupyter.widget-view+json": {
       "model_id": "",
       "version_major": 2,
       "version_minor": 0
      },
      "text/plain": [
       "  0%|          | 0/13 [00:00<?, ?it/s]"
      ]
     },
     "metadata": {},
     "output_type": "display_data"
    },
    {
     "name": "stdout",
     "output_type": "stream",
     "text": [
      "RU trigram\n",
      "1.0 0.8794979079497908\n",
      "**********\n",
      "**************************************************\n",
      "\n",
      "\n",
      "\n",
      "('balaboba', 'mGPT')\n"
     ]
    },
    {
     "data": {
      "application/vnd.jupyter.widget-view+json": {
       "model_id": "",
       "version_major": 2,
       "version_minor": 0
      },
      "text/plain": [
       "  0%|          | 0/13 [00:00<?, ?it/s]"
      ]
     },
     "metadata": {},
     "output_type": "display_data"
    },
    {
     "name": "stdout",
     "output_type": "stream",
     "text": [
      "EN word\n",
      "1.0 0.8608333333333333\n",
      "**********\n"
     ]
    },
    {
     "data": {
      "application/vnd.jupyter.widget-view+json": {
       "model_id": "",
       "version_major": 2,
       "version_minor": 0
      },
      "text/plain": [
       "  0%|          | 0/13 [00:00<?, ?it/s]"
      ]
     },
     "metadata": {},
     "output_type": "display_data"
    },
    {
     "name": "stdout",
     "output_type": "stream",
     "text": [
      "EN bigram\n",
      "1.0 0.9633333333333334\n",
      "**********\n"
     ]
    },
    {
     "data": {
      "application/vnd.jupyter.widget-view+json": {
       "model_id": "",
       "version_major": 2,
       "version_minor": 0
      },
      "text/plain": [
       "  0%|          | 0/13 [00:00<?, ?it/s]"
      ]
     },
     "metadata": {},
     "output_type": "display_data"
    },
    {
     "name": "stdout",
     "output_type": "stream",
     "text": [
      "EN trigram\n",
      "1.0 0.9091666666666667\n",
      "**********\n"
     ]
    },
    {
     "data": {
      "application/vnd.jupyter.widget-view+json": {
       "model_id": "",
       "version_major": 2,
       "version_minor": 0
      },
      "text/plain": [
       "  0%|          | 0/13 [00:00<?, ?it/s]"
      ]
     },
     "metadata": {},
     "output_type": "display_data"
    },
    {
     "name": "stdout",
     "output_type": "stream",
     "text": [
      "RU word\n",
      "1.0 0.7951505016722408\n",
      "**********\n"
     ]
    },
    {
     "data": {
      "application/vnd.jupyter.widget-view+json": {
       "model_id": "",
       "version_major": 2,
       "version_minor": 0
      },
      "text/plain": [
       "  0%|          | 0/13 [00:00<?, ?it/s]"
      ]
     },
     "metadata": {},
     "output_type": "display_data"
    },
    {
     "name": "stdout",
     "output_type": "stream",
     "text": [
      "RU bigram\n",
      "1.0 0.7366220735785953\n",
      "**********\n"
     ]
    },
    {
     "data": {
      "application/vnd.jupyter.widget-view+json": {
       "model_id": "",
       "version_major": 2,
       "version_minor": 0
      },
      "text/plain": [
       "  0%|          | 0/13 [00:00<?, ?it/s]"
      ]
     },
     "metadata": {},
     "output_type": "display_data"
    },
    {
     "name": "stdout",
     "output_type": "stream",
     "text": [
      "RU trigram\n",
      "1.0 0.7372384937238494\n",
      "**********\n",
      "**************************************************\n",
      "\n",
      "\n",
      "\n",
      "('gpt2', 'mGPT')\n"
     ]
    },
    {
     "data": {
      "application/vnd.jupyter.widget-view+json": {
       "model_id": "a44713ba97eb448fbf73be8e7be01b48",
       "version_major": 2,
       "version_minor": 0
      },
      "text/plain": [
       "  0%|          | 0/13 [00:00<?, ?it/s]"
      ]
     },
     "metadata": {},
     "output_type": "display_data"
    },
    {
     "name": "stdout",
     "output_type": "stream",
     "text": [
      "EN word\n",
      "1.0 0.8516666666666667\n",
      "**********\n"
     ]
    },
    {
     "data": {
      "application/vnd.jupyter.widget-view+json": {
       "model_id": "e4f121ab7a384495ae3c56cab984dca6",
       "version_major": 2,
       "version_minor": 0
      },
      "text/plain": [
       "  0%|          | 0/13 [00:00<?, ?it/s]"
      ]
     },
     "metadata": {},
     "output_type": "display_data"
    },
    {
     "name": "stdout",
     "output_type": "stream",
     "text": [
      "EN bigram\n",
      "1.0 0.8958333333333334\n",
      "**********\n"
     ]
    },
    {
     "data": {
      "application/vnd.jupyter.widget-view+json": {
       "model_id": "505a2b2c03f94da698d42523e34bb740",
       "version_major": 2,
       "version_minor": 0
      },
      "text/plain": [
       "  0%|          | 0/13 [00:00<?, ?it/s]"
      ]
     },
     "metadata": {},
     "output_type": "display_data"
    },
    {
     "name": "stdout",
     "output_type": "stream",
     "text": [
      "EN trigram\n",
      "1.0 0.87\n",
      "**********\n"
     ]
    },
    {
     "data": {
      "application/vnd.jupyter.widget-view+json": {
       "model_id": "77cf79b551754b2b8f4b53a7a8072185",
       "version_major": 2,
       "version_minor": 0
      },
      "text/plain": [
       "  0%|          | 0/13 [00:00<?, ?it/s]"
      ]
     },
     "metadata": {},
     "output_type": "display_data"
    },
    {
     "name": "stdout",
     "output_type": "stream",
     "text": [
      "RU word\n",
      "1.0 0.774247491638796\n",
      "**********\n"
     ]
    },
    {
     "data": {
      "application/vnd.jupyter.widget-view+json": {
       "model_id": "79e18a68f0bd4f86a3630f60d6742182",
       "version_major": 2,
       "version_minor": 0
      },
      "text/plain": [
       "  0%|          | 0/13 [00:00<?, ?it/s]"
      ]
     },
     "metadata": {},
     "output_type": "display_data"
    },
    {
     "name": "stdout",
     "output_type": "stream",
     "text": [
      "RU bigram\n",
      "1.0 0.7115384615384616\n",
      "**********\n"
     ]
    },
    {
     "data": {
      "application/vnd.jupyter.widget-view+json": {
       "model_id": "863abf6c0325416abd54b7cab2c9bd19",
       "version_major": 2,
       "version_minor": 0
      },
      "text/plain": [
       "  0%|          | 0/13 [00:00<?, ?it/s]"
      ]
     },
     "metadata": {},
     "output_type": "display_data"
    },
    {
     "name": "stdout",
     "output_type": "stream",
     "text": [
      "RU trigram\n",
      "1.0 0.7347280334728034\n",
      "**********\n",
      "**************************************************\n",
      "\n",
      "\n",
      "\n"
     ]
    }
   ],
   "source": [
    "from itertools import combinations\n",
    "method = \"rf\"\n",
    "for bot_subset in tqdm(combinations(bot_names, r=2), total=6):\n",
    "    if sorted(bot_subset) == ['balaboba', 'gpt2']: continue\n",
    "    print(bot_subset)\n",
    "    res = pipeline_clf(bot_subset, method)\n",
    "    save_file = f\"classification/{method}_{bot_subset[0]}_{bot_subset[1]}.npy\"\n",
    "    np.save(save_file, res)\n",
    "    print(\"*\" * 50)\n",
    "    print(\"\\n\\n\")"
   ]
  },
  {
   "cell_type": "markdown",
   "id": "4d889280-72eb-488a-8ec6-2010cd88190b",
   "metadata": {},
   "source": [
    "# Result tables"
   ]
  },
  {
   "cell_type": "code",
   "execution_count": 6,
   "id": "71c86a8a-2db2-495e-b35f-82e252389f78",
   "metadata": {},
   "outputs": [],
   "source": [
    "from itertools import combinations\n",
    "bot_names = ['lstm', 'balaboba', 'gpt2', 'mGPT']\n",
    "results = {method: {} for method in ['svc', 'dt', 'rf']}\n",
    "for method in results:\n",
    "    for bot_subset in list(combinations(bot_names, r=2)):\n",
    "        results[method][bot_subset] = np.load(f\"classification/{method}_{bot_subset[0]}_{bot_subset[1]}.npy\", allow_pickle=True).item()"
   ]
  },
  {
   "cell_type": "code",
   "execution_count": 43,
   "id": "e34383d4-aea9-4d9b-83c0-716cb1d9b972",
   "metadata": {},
   "outputs": [],
   "source": [
    "bot_subsets = list(combinations(bot_names, r=2))\n",
    "def get_acc_values(results, method = 'svc', lang='RU', part='word'):\n",
    "    clf_res = []\n",
    "    for bot_subset in bot_subsets:\n",
    "        r = results[method][bot_subset][lang][part][1]\n",
    "        if method == 'svc':\n",
    "            clf_res.extend([r['train_acc'], r['test_acc']])\n",
    "        else:\n",
    "            idx_max = np.unravel_index(np.argmax(r['test'].to_numpy(), axis=None), r['test'].shape)\n",
    "            clf_res.extend([r['train'].iloc[idx_max], r['test'].iloc[idx_max]])\n",
    "    return clf_res"
   ]
  },
  {
   "cell_type": "code",
   "execution_count": null,
   "id": "4da1da61-1702-4b88-a731-6296d81e1e58",
   "metadata": {},
   "outputs": [],
   "source": []
  },
  {
   "cell_type": "code",
   "execution_count": 74,
   "id": "deaa29a9-c233-441d-88d6-509c8eb987ad",
   "metadata": {},
   "outputs": [
    {
     "data": {
      "text/plain": [
       "array(['Train: lstm+balaboba', 'Test: gpt2+mGPT', 'Train: lstm+gpt2',\n",
       "       'Test: mGPT+balaboba', 'Train: lstm+mGPT', 'Test: gpt2+balaboba',\n",
       "       'Train: balaboba+gpt2', 'Test: mGPT+lstm', 'Train: balaboba+mGPT',\n",
       "       'Test: gpt2+lstm', 'Train: gpt2+mGPT', 'Test: balaboba+lstm'],\n",
       "      dtype='<U20')"
      ]
     },
     "execution_count": 74,
     "metadata": {},
     "output_type": "execute_result"
    }
   ],
   "source": [
    "columns = np.array([(\"Train: \"+\"+\".join(bot_subset), \"Test: \"+\"+\".join(list(set(bot_names) - set(bot_subset)))) for bot_subset in bot_subsets]).flatten()\n",
    "columns"
   ]
  },
  {
   "cell_type": "code",
   "execution_count": 76,
   "id": "78d86d0c-b1e8-436b-bd17-2b22f52e7ca4",
   "metadata": {},
   "outputs": [],
   "source": [
    "lang = 'RU'\n",
    "part = 'word'\n",
    "\n",
    "clf_tables = {'RU': {}, 'EN': {}}\n",
    "\n",
    "for lang in ['RU', 'EN']:\n",
    "    for part in ['word', 'bigram', 'trigram']:\n",
    "        svc_results = get_acc_values(results, 'svc', lang, part)\n",
    "        dt_results = get_acc_values(results, 'dt', lang, part)\n",
    "        rf_results = get_acc_values(results, 'rf', lang, part)\n",
    "        \n",
    "        clf_tables[lang][part] = pd.DataFrame(\n",
    "            np.vstack([svc_results, dt_results, rf_results]), \n",
    "            index=['SVC', 'DT', 'RF'], \n",
    "            columns=columns\n",
    "        )"
   ]
  },
  {
   "cell_type": "code",
   "execution_count": 77,
   "id": "02f70cae-fdef-4315-a8f9-51e88cf0a734",
   "metadata": {},
   "outputs": [
    {
     "name": "stdout",
     "output_type": "stream",
     "text": [
      "RU word\n"
     ]
    },
    {
     "data": {
      "text/html": [
       "<div>\n",
       "<style scoped>\n",
       "    .dataframe tbody tr th:only-of-type {\n",
       "        vertical-align: middle;\n",
       "    }\n",
       "\n",
       "    .dataframe tbody tr th {\n",
       "        vertical-align: top;\n",
       "    }\n",
       "\n",
       "    .dataframe thead th {\n",
       "        text-align: right;\n",
       "    }\n",
       "</style>\n",
       "<table border=\"1\" class=\"dataframe\">\n",
       "  <thead>\n",
       "    <tr style=\"text-align: right;\">\n",
       "      <th></th>\n",
       "      <th>Train: lstm+balaboba</th>\n",
       "      <th>Test: gpt2+mGPT</th>\n",
       "      <th>Train: lstm+gpt2</th>\n",
       "      <th>Test: mGPT+balaboba</th>\n",
       "      <th>Train: lstm+mGPT</th>\n",
       "      <th>Test: gpt2+balaboba</th>\n",
       "      <th>Train: balaboba+gpt2</th>\n",
       "      <th>Test: mGPT+lstm</th>\n",
       "      <th>Train: balaboba+mGPT</th>\n",
       "      <th>Test: gpt2+lstm</th>\n",
       "      <th>Train: gpt2+mGPT</th>\n",
       "      <th>Test: balaboba+lstm</th>\n",
       "    </tr>\n",
       "  </thead>\n",
       "  <tbody>\n",
       "    <tr>\n",
       "      <th>SVC</th>\n",
       "      <td>0.930000</td>\n",
       "      <td>0.916388</td>\n",
       "      <td>0.946667</td>\n",
       "      <td>0.895485</td>\n",
       "      <td>0.939167</td>\n",
       "      <td>0.952341</td>\n",
       "      <td>0.982672</td>\n",
       "      <td>0.743311</td>\n",
       "      <td>0.963333</td>\n",
       "      <td>0.779264</td>\n",
       "      <td>0.970833</td>\n",
       "      <td>0.729097</td>\n",
       "    </tr>\n",
       "    <tr>\n",
       "      <th>DT</th>\n",
       "      <td>0.979167</td>\n",
       "      <td>0.908027</td>\n",
       "      <td>0.932500</td>\n",
       "      <td>0.925585</td>\n",
       "      <td>0.980000</td>\n",
       "      <td>0.928094</td>\n",
       "      <td>0.993973</td>\n",
       "      <td>0.774247</td>\n",
       "      <td>0.981667</td>\n",
       "      <td>0.867893</td>\n",
       "      <td>0.964167</td>\n",
       "      <td>0.779264</td>\n",
       "    </tr>\n",
       "    <tr>\n",
       "      <th>RF</th>\n",
       "      <td>0.997500</td>\n",
       "      <td>0.895485</td>\n",
       "      <td>1.000000</td>\n",
       "      <td>0.921405</td>\n",
       "      <td>0.974167</td>\n",
       "      <td>0.944816</td>\n",
       "      <td>0.997991</td>\n",
       "      <td>0.755853</td>\n",
       "      <td>1.000000</td>\n",
       "      <td>0.795151</td>\n",
       "      <td>0.991667</td>\n",
       "      <td>0.774247</td>\n",
       "    </tr>\n",
       "  </tbody>\n",
       "</table>\n",
       "</div>"
      ],
      "text/plain": [
       "     Train: lstm+balaboba  Test: gpt2+mGPT  Train: lstm+gpt2  \\\n",
       "SVC              0.930000         0.916388          0.946667   \n",
       "DT               0.979167         0.908027          0.932500   \n",
       "RF               0.997500         0.895485          1.000000   \n",
       "\n",
       "     Test: mGPT+balaboba  Train: lstm+mGPT  Test: gpt2+balaboba  \\\n",
       "SVC             0.895485          0.939167             0.952341   \n",
       "DT              0.925585          0.980000             0.928094   \n",
       "RF              0.921405          0.974167             0.944816   \n",
       "\n",
       "     Train: balaboba+gpt2  Test: mGPT+lstm  Train: balaboba+mGPT  \\\n",
       "SVC              0.982672         0.743311              0.963333   \n",
       "DT               0.993973         0.774247              0.981667   \n",
       "RF               0.997991         0.755853              1.000000   \n",
       "\n",
       "     Test: gpt2+lstm  Train: gpt2+mGPT  Test: balaboba+lstm  \n",
       "SVC         0.779264          0.970833             0.729097  \n",
       "DT          0.867893          0.964167             0.779264  \n",
       "RF          0.795151          0.991667             0.774247  "
      ]
     },
     "metadata": {},
     "output_type": "display_data"
    },
    {
     "name": "stdout",
     "output_type": "stream",
     "text": [
      "RU bigram\n"
     ]
    },
    {
     "data": {
      "text/html": [
       "<div>\n",
       "<style scoped>\n",
       "    .dataframe tbody tr th:only-of-type {\n",
       "        vertical-align: middle;\n",
       "    }\n",
       "\n",
       "    .dataframe tbody tr th {\n",
       "        vertical-align: top;\n",
       "    }\n",
       "\n",
       "    .dataframe thead th {\n",
       "        text-align: right;\n",
       "    }\n",
       "</style>\n",
       "<table border=\"1\" class=\"dataframe\">\n",
       "  <thead>\n",
       "    <tr style=\"text-align: right;\">\n",
       "      <th></th>\n",
       "      <th>Train: lstm+balaboba</th>\n",
       "      <th>Test: gpt2+mGPT</th>\n",
       "      <th>Train: lstm+gpt2</th>\n",
       "      <th>Test: mGPT+balaboba</th>\n",
       "      <th>Train: lstm+mGPT</th>\n",
       "      <th>Test: gpt2+balaboba</th>\n",
       "      <th>Train: balaboba+gpt2</th>\n",
       "      <th>Test: mGPT+lstm</th>\n",
       "      <th>Train: balaboba+mGPT</th>\n",
       "      <th>Test: gpt2+lstm</th>\n",
       "      <th>Train: gpt2+mGPT</th>\n",
       "      <th>Test: balaboba+lstm</th>\n",
       "    </tr>\n",
       "  </thead>\n",
       "  <tbody>\n",
       "    <tr>\n",
       "      <th>SVC</th>\n",
       "      <td>0.961667</td>\n",
       "      <td>0.937238</td>\n",
       "      <td>0.975000</td>\n",
       "      <td>0.851883</td>\n",
       "      <td>0.985822</td>\n",
       "      <td>0.790134</td>\n",
       "      <td>0.972125</td>\n",
       "      <td>0.713808</td>\n",
       "      <td>0.974145</td>\n",
       "      <td>0.727425</td>\n",
       "      <td>0.988324</td>\n",
       "      <td>0.703177</td>\n",
       "    </tr>\n",
       "    <tr>\n",
       "      <th>DT</th>\n",
       "      <td>0.995000</td>\n",
       "      <td>0.886192</td>\n",
       "      <td>0.921667</td>\n",
       "      <td>0.876151</td>\n",
       "      <td>0.980817</td>\n",
       "      <td>0.827759</td>\n",
       "      <td>0.989704</td>\n",
       "      <td>0.704603</td>\n",
       "      <td>1.000000</td>\n",
       "      <td>0.712375</td>\n",
       "      <td>1.000000</td>\n",
       "      <td>0.708194</td>\n",
       "    </tr>\n",
       "    <tr>\n",
       "      <th>RF</th>\n",
       "      <td>1.000000</td>\n",
       "      <td>0.928870</td>\n",
       "      <td>1.000000</td>\n",
       "      <td>0.917155</td>\n",
       "      <td>0.994996</td>\n",
       "      <td>0.911371</td>\n",
       "      <td>1.000000</td>\n",
       "      <td>0.725523</td>\n",
       "      <td>1.000000</td>\n",
       "      <td>0.736622</td>\n",
       "      <td>0.999166</td>\n",
       "      <td>0.711538</td>\n",
       "    </tr>\n",
       "  </tbody>\n",
       "</table>\n",
       "</div>"
      ],
      "text/plain": [
       "     Train: lstm+balaboba  Test: gpt2+mGPT  Train: lstm+gpt2  \\\n",
       "SVC              0.961667         0.937238          0.975000   \n",
       "DT               0.995000         0.886192          0.921667   \n",
       "RF               1.000000         0.928870          1.000000   \n",
       "\n",
       "     Test: mGPT+balaboba  Train: lstm+mGPT  Test: gpt2+balaboba  \\\n",
       "SVC             0.851883          0.985822             0.790134   \n",
       "DT              0.876151          0.980817             0.827759   \n",
       "RF              0.917155          0.994996             0.911371   \n",
       "\n",
       "     Train: balaboba+gpt2  Test: mGPT+lstm  Train: balaboba+mGPT  \\\n",
       "SVC              0.972125         0.713808              0.974145   \n",
       "DT               0.989704         0.704603              1.000000   \n",
       "RF               1.000000         0.725523              1.000000   \n",
       "\n",
       "     Test: gpt2+lstm  Train: gpt2+mGPT  Test: balaboba+lstm  \n",
       "SVC         0.727425          0.988324             0.703177  \n",
       "DT          0.712375          1.000000             0.708194  \n",
       "RF          0.736622          0.999166             0.711538  "
      ]
     },
     "metadata": {},
     "output_type": "display_data"
    },
    {
     "name": "stdout",
     "output_type": "stream",
     "text": [
      "RU trigram\n"
     ]
    },
    {
     "data": {
      "text/html": [
       "<div>\n",
       "<style scoped>\n",
       "    .dataframe tbody tr th:only-of-type {\n",
       "        vertical-align: middle;\n",
       "    }\n",
       "\n",
       "    .dataframe tbody tr th {\n",
       "        vertical-align: top;\n",
       "    }\n",
       "\n",
       "    .dataframe thead th {\n",
       "        text-align: right;\n",
       "    }\n",
       "</style>\n",
       "<table border=\"1\" class=\"dataframe\">\n",
       "  <thead>\n",
       "    <tr style=\"text-align: right;\">\n",
       "      <th></th>\n",
       "      <th>Train: lstm+balaboba</th>\n",
       "      <th>Test: gpt2+mGPT</th>\n",
       "      <th>Train: lstm+gpt2</th>\n",
       "      <th>Test: mGPT+balaboba</th>\n",
       "      <th>Train: lstm+mGPT</th>\n",
       "      <th>Test: gpt2+balaboba</th>\n",
       "      <th>Train: balaboba+gpt2</th>\n",
       "      <th>Test: mGPT+lstm</th>\n",
       "      <th>Train: balaboba+mGPT</th>\n",
       "      <th>Test: gpt2+lstm</th>\n",
       "      <th>Train: gpt2+mGPT</th>\n",
       "      <th>Test: balaboba+lstm</th>\n",
       "    </tr>\n",
       "  </thead>\n",
       "  <tbody>\n",
       "    <tr>\n",
       "      <th>SVC</th>\n",
       "      <td>0.963333</td>\n",
       "      <td>0.934177</td>\n",
       "      <td>0.970833</td>\n",
       "      <td>0.924051</td>\n",
       "      <td>0.963866</td>\n",
       "      <td>0.884519</td>\n",
       "      <td>0.961190</td>\n",
       "      <td>0.718143</td>\n",
       "      <td>0.964706</td>\n",
       "      <td>0.720502</td>\n",
       "      <td>0.961345</td>\n",
       "      <td>0.704603</td>\n",
       "    </tr>\n",
       "    <tr>\n",
       "      <th>DT</th>\n",
       "      <td>0.986667</td>\n",
       "      <td>0.886076</td>\n",
       "      <td>0.980000</td>\n",
       "      <td>0.882700</td>\n",
       "      <td>0.987395</td>\n",
       "      <td>0.859414</td>\n",
       "      <td>0.989163</td>\n",
       "      <td>0.821941</td>\n",
       "      <td>0.992437</td>\n",
       "      <td>0.927197</td>\n",
       "      <td>0.991597</td>\n",
       "      <td>0.737238</td>\n",
       "    </tr>\n",
       "    <tr>\n",
       "      <th>RF</th>\n",
       "      <td>0.992500</td>\n",
       "      <td>0.942616</td>\n",
       "      <td>1.000000</td>\n",
       "      <td>0.946835</td>\n",
       "      <td>0.996639</td>\n",
       "      <td>0.879498</td>\n",
       "      <td>0.999748</td>\n",
       "      <td>0.755274</td>\n",
       "      <td>1.000000</td>\n",
       "      <td>0.737238</td>\n",
       "      <td>1.000000</td>\n",
       "      <td>0.734728</td>\n",
       "    </tr>\n",
       "  </tbody>\n",
       "</table>\n",
       "</div>"
      ],
      "text/plain": [
       "     Train: lstm+balaboba  Test: gpt2+mGPT  Train: lstm+gpt2  \\\n",
       "SVC              0.963333         0.934177          0.970833   \n",
       "DT               0.986667         0.886076          0.980000   \n",
       "RF               0.992500         0.942616          1.000000   \n",
       "\n",
       "     Test: mGPT+balaboba  Train: lstm+mGPT  Test: gpt2+balaboba  \\\n",
       "SVC             0.924051          0.963866             0.884519   \n",
       "DT              0.882700          0.987395             0.859414   \n",
       "RF              0.946835          0.996639             0.879498   \n",
       "\n",
       "     Train: balaboba+gpt2  Test: mGPT+lstm  Train: balaboba+mGPT  \\\n",
       "SVC              0.961190         0.718143              0.964706   \n",
       "DT               0.989163         0.821941              0.992437   \n",
       "RF               0.999748         0.755274              1.000000   \n",
       "\n",
       "     Test: gpt2+lstm  Train: gpt2+mGPT  Test: balaboba+lstm  \n",
       "SVC         0.720502          0.961345             0.704603  \n",
       "DT          0.927197          0.991597             0.737238  \n",
       "RF          0.737238          1.000000             0.734728  "
      ]
     },
     "metadata": {},
     "output_type": "display_data"
    },
    {
     "name": "stdout",
     "output_type": "stream",
     "text": [
      "EN word\n"
     ]
    },
    {
     "data": {
      "text/html": [
       "<div>\n",
       "<style scoped>\n",
       "    .dataframe tbody tr th:only-of-type {\n",
       "        vertical-align: middle;\n",
       "    }\n",
       "\n",
       "    .dataframe tbody tr th {\n",
       "        vertical-align: top;\n",
       "    }\n",
       "\n",
       "    .dataframe thead th {\n",
       "        text-align: right;\n",
       "    }\n",
       "</style>\n",
       "<table border=\"1\" class=\"dataframe\">\n",
       "  <thead>\n",
       "    <tr style=\"text-align: right;\">\n",
       "      <th></th>\n",
       "      <th>Train: lstm+balaboba</th>\n",
       "      <th>Test: gpt2+mGPT</th>\n",
       "      <th>Train: lstm+gpt2</th>\n",
       "      <th>Test: mGPT+balaboba</th>\n",
       "      <th>Train: lstm+mGPT</th>\n",
       "      <th>Test: gpt2+balaboba</th>\n",
       "      <th>Train: balaboba+gpt2</th>\n",
       "      <th>Test: mGPT+lstm</th>\n",
       "      <th>Train: balaboba+mGPT</th>\n",
       "      <th>Test: gpt2+lstm</th>\n",
       "      <th>Train: gpt2+mGPT</th>\n",
       "      <th>Test: balaboba+lstm</th>\n",
       "    </tr>\n",
       "  </thead>\n",
       "  <tbody>\n",
       "    <tr>\n",
       "      <th>SVC</th>\n",
       "      <td>0.879167</td>\n",
       "      <td>0.921667</td>\n",
       "      <td>0.919167</td>\n",
       "      <td>0.902500</td>\n",
       "      <td>0.8775</td>\n",
       "      <td>0.770833</td>\n",
       "      <td>0.95975</td>\n",
       "      <td>0.844167</td>\n",
       "      <td>0.958333</td>\n",
       "      <td>0.840000</td>\n",
       "      <td>0.971667</td>\n",
       "      <td>0.802500</td>\n",
       "    </tr>\n",
       "    <tr>\n",
       "      <th>DT</th>\n",
       "      <td>0.990000</td>\n",
       "      <td>0.931667</td>\n",
       "      <td>0.983333</td>\n",
       "      <td>0.889167</td>\n",
       "      <td>0.9725</td>\n",
       "      <td>0.767500</td>\n",
       "      <td>0.98325</td>\n",
       "      <td>0.850000</td>\n",
       "      <td>0.949167</td>\n",
       "      <td>0.828333</td>\n",
       "      <td>0.985833</td>\n",
       "      <td>0.840000</td>\n",
       "    </tr>\n",
       "    <tr>\n",
       "      <th>RF</th>\n",
       "      <td>0.997500</td>\n",
       "      <td>0.935000</td>\n",
       "      <td>0.983333</td>\n",
       "      <td>0.920000</td>\n",
       "      <td>0.9800</td>\n",
       "      <td>0.773333</td>\n",
       "      <td>0.99750</td>\n",
       "      <td>0.856667</td>\n",
       "      <td>0.989167</td>\n",
       "      <td>0.860833</td>\n",
       "      <td>0.996667</td>\n",
       "      <td>0.851667</td>\n",
       "    </tr>\n",
       "  </tbody>\n",
       "</table>\n",
       "</div>"
      ],
      "text/plain": [
       "     Train: lstm+balaboba  Test: gpt2+mGPT  Train: lstm+gpt2  \\\n",
       "SVC              0.879167         0.921667          0.919167   \n",
       "DT               0.990000         0.931667          0.983333   \n",
       "RF               0.997500         0.935000          0.983333   \n",
       "\n",
       "     Test: mGPT+balaboba  Train: lstm+mGPT  Test: gpt2+balaboba  \\\n",
       "SVC             0.902500            0.8775             0.770833   \n",
       "DT              0.889167            0.9725             0.767500   \n",
       "RF              0.920000            0.9800             0.773333   \n",
       "\n",
       "     Train: balaboba+gpt2  Test: mGPT+lstm  Train: balaboba+mGPT  \\\n",
       "SVC               0.95975         0.844167              0.958333   \n",
       "DT                0.98325         0.850000              0.949167   \n",
       "RF                0.99750         0.856667              0.989167   \n",
       "\n",
       "     Test: gpt2+lstm  Train: gpt2+mGPT  Test: balaboba+lstm  \n",
       "SVC         0.840000          0.971667             0.802500  \n",
       "DT          0.828333          0.985833             0.840000  \n",
       "RF          0.860833          0.996667             0.851667  "
      ]
     },
     "metadata": {},
     "output_type": "display_data"
    },
    {
     "name": "stdout",
     "output_type": "stream",
     "text": [
      "EN bigram\n"
     ]
    },
    {
     "data": {
      "text/html": [
       "<div>\n",
       "<style scoped>\n",
       "    .dataframe tbody tr th:only-of-type {\n",
       "        vertical-align: middle;\n",
       "    }\n",
       "\n",
       "    .dataframe tbody tr th {\n",
       "        vertical-align: top;\n",
       "    }\n",
       "\n",
       "    .dataframe thead th {\n",
       "        text-align: right;\n",
       "    }\n",
       "</style>\n",
       "<table border=\"1\" class=\"dataframe\">\n",
       "  <thead>\n",
       "    <tr style=\"text-align: right;\">\n",
       "      <th></th>\n",
       "      <th>Train: lstm+balaboba</th>\n",
       "      <th>Test: gpt2+mGPT</th>\n",
       "      <th>Train: lstm+gpt2</th>\n",
       "      <th>Test: mGPT+balaboba</th>\n",
       "      <th>Train: lstm+mGPT</th>\n",
       "      <th>Test: gpt2+balaboba</th>\n",
       "      <th>Train: balaboba+gpt2</th>\n",
       "      <th>Test: mGPT+lstm</th>\n",
       "      <th>Train: balaboba+mGPT</th>\n",
       "      <th>Test: gpt2+lstm</th>\n",
       "      <th>Train: gpt2+mGPT</th>\n",
       "      <th>Test: balaboba+lstm</th>\n",
       "    </tr>\n",
       "  </thead>\n",
       "  <tbody>\n",
       "    <tr>\n",
       "      <th>SVC</th>\n",
       "      <td>0.946667</td>\n",
       "      <td>0.940000</td>\n",
       "      <td>0.971667</td>\n",
       "      <td>0.925000</td>\n",
       "      <td>0.964167</td>\n",
       "      <td>0.868333</td>\n",
       "      <td>0.96275</td>\n",
       "      <td>0.940833</td>\n",
       "      <td>0.959167</td>\n",
       "      <td>0.940000</td>\n",
       "      <td>0.968333</td>\n",
       "      <td>0.878333</td>\n",
       "    </tr>\n",
       "    <tr>\n",
       "      <th>DT</th>\n",
       "      <td>0.975000</td>\n",
       "      <td>0.935000</td>\n",
       "      <td>1.000000</td>\n",
       "      <td>0.914167</td>\n",
       "      <td>0.989167</td>\n",
       "      <td>0.865833</td>\n",
       "      <td>0.97650</td>\n",
       "      <td>0.879167</td>\n",
       "      <td>1.000000</td>\n",
       "      <td>0.917500</td>\n",
       "      <td>0.992500</td>\n",
       "      <td>0.865833</td>\n",
       "    </tr>\n",
       "    <tr>\n",
       "      <th>RF</th>\n",
       "      <td>0.990000</td>\n",
       "      <td>0.964167</td>\n",
       "      <td>0.999167</td>\n",
       "      <td>0.929167</td>\n",
       "      <td>0.996667</td>\n",
       "      <td>0.855833</td>\n",
       "      <td>0.99000</td>\n",
       "      <td>0.930000</td>\n",
       "      <td>1.000000</td>\n",
       "      <td>0.963333</td>\n",
       "      <td>0.995833</td>\n",
       "      <td>0.895833</td>\n",
       "    </tr>\n",
       "  </tbody>\n",
       "</table>\n",
       "</div>"
      ],
      "text/plain": [
       "     Train: lstm+balaboba  Test: gpt2+mGPT  Train: lstm+gpt2  \\\n",
       "SVC              0.946667         0.940000          0.971667   \n",
       "DT               0.975000         0.935000          1.000000   \n",
       "RF               0.990000         0.964167          0.999167   \n",
       "\n",
       "     Test: mGPT+balaboba  Train: lstm+mGPT  Test: gpt2+balaboba  \\\n",
       "SVC             0.925000          0.964167             0.868333   \n",
       "DT              0.914167          0.989167             0.865833   \n",
       "RF              0.929167          0.996667             0.855833   \n",
       "\n",
       "     Train: balaboba+gpt2  Test: mGPT+lstm  Train: balaboba+mGPT  \\\n",
       "SVC               0.96275         0.940833              0.959167   \n",
       "DT                0.97650         0.879167              1.000000   \n",
       "RF                0.99000         0.930000              1.000000   \n",
       "\n",
       "     Test: gpt2+lstm  Train: gpt2+mGPT  Test: balaboba+lstm  \n",
       "SVC         0.940000          0.968333             0.878333  \n",
       "DT          0.917500          0.992500             0.865833  \n",
       "RF          0.963333          0.995833             0.895833  "
      ]
     },
     "metadata": {},
     "output_type": "display_data"
    },
    {
     "name": "stdout",
     "output_type": "stream",
     "text": [
      "EN trigram\n"
     ]
    },
    {
     "data": {
      "text/html": [
       "<div>\n",
       "<style scoped>\n",
       "    .dataframe tbody tr th:only-of-type {\n",
       "        vertical-align: middle;\n",
       "    }\n",
       "\n",
       "    .dataframe tbody tr th {\n",
       "        vertical-align: top;\n",
       "    }\n",
       "\n",
       "    .dataframe thead th {\n",
       "        text-align: right;\n",
       "    }\n",
       "</style>\n",
       "<table border=\"1\" class=\"dataframe\">\n",
       "  <thead>\n",
       "    <tr style=\"text-align: right;\">\n",
       "      <th></th>\n",
       "      <th>Train: lstm+balaboba</th>\n",
       "      <th>Test: gpt2+mGPT</th>\n",
       "      <th>Train: lstm+gpt2</th>\n",
       "      <th>Test: mGPT+balaboba</th>\n",
       "      <th>Train: lstm+mGPT</th>\n",
       "      <th>Test: gpt2+balaboba</th>\n",
       "      <th>Train: balaboba+gpt2</th>\n",
       "      <th>Test: mGPT+lstm</th>\n",
       "      <th>Train: balaboba+mGPT</th>\n",
       "      <th>Test: gpt2+lstm</th>\n",
       "      <th>Train: gpt2+mGPT</th>\n",
       "      <th>Test: balaboba+lstm</th>\n",
       "    </tr>\n",
       "  </thead>\n",
       "  <tbody>\n",
       "    <tr>\n",
       "      <th>SVC</th>\n",
       "      <td>0.921667</td>\n",
       "      <td>0.885833</td>\n",
       "      <td>0.951667</td>\n",
       "      <td>0.8300</td>\n",
       "      <td>0.967500</td>\n",
       "      <td>0.840833</td>\n",
       "      <td>0.90600</td>\n",
       "      <td>0.755000</td>\n",
       "      <td>0.892500</td>\n",
       "      <td>0.764167</td>\n",
       "      <td>0.935000</td>\n",
       "      <td>0.721667</td>\n",
       "    </tr>\n",
       "    <tr>\n",
       "      <th>DT</th>\n",
       "      <td>0.969167</td>\n",
       "      <td>0.878333</td>\n",
       "      <td>1.000000</td>\n",
       "      <td>0.8125</td>\n",
       "      <td>0.940833</td>\n",
       "      <td>0.793333</td>\n",
       "      <td>0.95675</td>\n",
       "      <td>0.819167</td>\n",
       "      <td>0.975833</td>\n",
       "      <td>0.901667</td>\n",
       "      <td>0.981667</td>\n",
       "      <td>0.884167</td>\n",
       "    </tr>\n",
       "    <tr>\n",
       "      <th>RF</th>\n",
       "      <td>0.975833</td>\n",
       "      <td>0.914167</td>\n",
       "      <td>1.000000</td>\n",
       "      <td>0.8825</td>\n",
       "      <td>0.994167</td>\n",
       "      <td>0.746667</td>\n",
       "      <td>0.99250</td>\n",
       "      <td>0.927500</td>\n",
       "      <td>1.000000</td>\n",
       "      <td>0.909167</td>\n",
       "      <td>0.992500</td>\n",
       "      <td>0.870000</td>\n",
       "    </tr>\n",
       "  </tbody>\n",
       "</table>\n",
       "</div>"
      ],
      "text/plain": [
       "     Train: lstm+balaboba  Test: gpt2+mGPT  Train: lstm+gpt2  \\\n",
       "SVC              0.921667         0.885833          0.951667   \n",
       "DT               0.969167         0.878333          1.000000   \n",
       "RF               0.975833         0.914167          1.000000   \n",
       "\n",
       "     Test: mGPT+balaboba  Train: lstm+mGPT  Test: gpt2+balaboba  \\\n",
       "SVC               0.8300          0.967500             0.840833   \n",
       "DT                0.8125          0.940833             0.793333   \n",
       "RF                0.8825          0.994167             0.746667   \n",
       "\n",
       "     Train: balaboba+gpt2  Test: mGPT+lstm  Train: balaboba+mGPT  \\\n",
       "SVC               0.90600         0.755000              0.892500   \n",
       "DT                0.95675         0.819167              0.975833   \n",
       "RF                0.99250         0.927500              1.000000   \n",
       "\n",
       "     Test: gpt2+lstm  Train: gpt2+mGPT  Test: balaboba+lstm  \n",
       "SVC         0.764167          0.935000             0.721667  \n",
       "DT          0.901667          0.981667             0.884167  \n",
       "RF          0.909167          0.992500             0.870000  "
      ]
     },
     "metadata": {},
     "output_type": "display_data"
    }
   ],
   "source": [
    "for lang in ['RU', 'EN']:\n",
    "    for part in ['word', 'bigram', 'trigram']:\n",
    "        print(lang, part)\n",
    "        display(clf_tables[lang][part])"
   ]
  },
  {
   "cell_type": "code",
   "execution_count": 82,
   "id": "cf5c12c7-b72c-4bba-8643-0c8d2ee5627a",
   "metadata": {},
   "outputs": [],
   "source": [
    "for lang in ['RU', 'EN']:\n",
    "    for part in ['word', 'bigram', 'trigram']:\n",
    "        clf_tables[lang][part].to_excel(f\"classification/excel_tables/{lang}{part}.xlsx\", float_format=\"%.3f\")"
   ]
  },
  {
   "cell_type": "markdown",
   "id": "ee76eb85-353b-456f-9ca1-79289f9259f2",
   "metadata": {},
   "source": [
    "# Feature importance"
   ]
  },
  {
   "cell_type": "code",
   "execution_count": 85,
   "id": "1f376c11-cfee-42bd-87a1-e6e267141bb6",
   "metadata": {},
   "outputs": [
    {
     "data": {
      "text/plain": [
       "[('lstm', 'balaboba'),\n",
       " ('lstm', 'gpt2'),\n",
       " ('lstm', 'mGPT'),\n",
       " ('balaboba', 'gpt2'),\n",
       " ('balaboba', 'mGPT'),\n",
       " ('gpt2', 'mGPT')]"
      ]
     },
     "execution_count": 85,
     "metadata": {},
     "output_type": "execute_result"
    }
   ],
   "source": [
    "bot_subsets"
   ]
  },
  {
   "cell_type": "code",
   "execution_count": 86,
   "id": "92586f18-3936-4058-a783-f127152b5d26",
   "metadata": {},
   "outputs": [],
   "source": [
    "svc_res = results[\"svc\"][('lstm', 'mGPT')][\"RU\"][\"word\"]"
   ]
  },
  {
   "cell_type": "code",
   "execution_count": 91,
   "id": "866f0fa6-4b05-483a-bcfb-fe9104c02c93",
   "metadata": {},
   "outputs": [
    {
     "data": {
      "text/plain": [
       "array(['0', '1', '2', '3', '4', '5', '6', '7', '8', '9', '10', '11', '12',\n",
       "       '13', '14', '15', '16', '17', '18', '19', '20', '21', '22', '23',\n",
       "       '24', '25', '26', '27', '28', '29', '30', '31'], dtype=object)"
      ]
     },
     "execution_count": 91,
     "metadata": {},
     "output_type": "execute_result"
    }
   ],
   "source": [
    "svc_res[0].feature_names_in_"
   ]
  },
  {
   "cell_type": "code",
   "execution_count": 94,
   "id": "7fad8b02-f7b8-4717-b967-927e9ffa45bc",
   "metadata": {},
   "outputs": [],
   "source": [
    "feature_names = [f\"c_{i}\" for i in range(7)] + [\"c_mean\"] + \\\n",
    "[f\"min_{i}\" for i in range(7)] + [\"min_mean\"] + \\\n",
    "[f\"max_{i}\" for i in range(7)] + [\"max_mean\"] + \\\n",
    "[f\"h_{i}\" for i in range(7)] + [\"h_closest\"]"
   ]
  },
  {
   "cell_type": "code",
   "execution_count": 96,
   "id": "dafd32f6-4d8e-4b10-b7b3-d69098d3e7b9",
   "metadata": {},
   "outputs": [
    {
     "data": {
      "image/png": "[encoded data removed]",
      "text/plain": [
       "<Figure size 640x480 with 1 Axes>"
      ]
     },
     "metadata": {},
     "output_type": "display_data"
    }
   ],
   "source": [
    "pd.Series(abs(svc_res[0].coef_[0]), index=feature_names).nlargest(10).plot(kind='barh');"
   ]
  }
 ],
 "metadata": {
  "kernelspec": {
   "display_name": "Python 3 (ipykernel)",
   "language": "python",
   "name": "python3"
  },
  "language_info": {
   "codemirror_mode": {
    "name": "ipython",
    "version": 3
   },
   "file_extension": ".py",
   "mimetype": "text/x-python",
   "name": "python",
   "nbconvert_exporter": "python",
   "pygments_lexer": "ipython3",
   "version": "3.9.9"
  }
 },
 "nbformat": 4,
 "nbformat_minor": 5
}
